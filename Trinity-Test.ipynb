{
 "cells": [
  {
   "cell_type": "code",
   "execution_count": 1,
   "metadata": {},
   "outputs": [],
   "source": [
    "import numpy as np\n",
    "import pandas as pd\n",
    "import matplotlib.pyplot as plt\n",
    "%matplotlib inline\n",
    "plt.rcParams['figure.facecolor'] = 'w'\n",
    "from matplotlib import rc\n",
    "rc('font',**{'family':'sans-serif','sans-serif':['Helvetica']})\n",
    "## for Palatino and other serif fonts use:\n",
    "# rc('font',**{'family':'serif','serif':['Palatino']})\n",
    "rc('text', usetex=True)\n",
    "# import matplotlib.patches as patches\n",
    "# from matplotlib.colors import to_rgba"
   ]
  },
  {
   "cell_type": "code",
   "execution_count": 2,
   "metadata": {},
   "outputs": [],
   "source": [
    "df = pd.read_csv('data/GITaylor_Trinity_data.csv')"
   ]
  },
  {
   "cell_type": "code",
   "execution_count": 3,
   "metadata": {},
   "outputs": [],
   "source": [
    "df['t_sec'] = df['t_msec'] * 1e-3\n",
    "df['R_cm'] = df['R_m'] * 1e2\n",
    "\n",
    "df['log10_t'] = df['t_sec'].apply(lambda x: np.log10(x))\n",
    "df['log10_R'] = df['R_cm'].apply(lambda x: np.log10(x))\n",
    "df['5/2*log10_R'] = df['log10_R'] * 5/2"
   ]
  },
  {
   "cell_type": "code",
   "execution_count": 4,
   "metadata": {},
   "outputs": [
    {
     "data": {
      "text/plain": [
       "25"
      ]
     },
     "execution_count": 4,
     "metadata": {},
     "output_type": "execute_result"
    }
   ],
   "source": [
    "len(df)"
   ]
  },
  {
   "cell_type": "code",
   "execution_count": 5,
   "metadata": {},
   "outputs": [
    {
     "data": {
      "text/html": [
       "<div>\n",
       "<style scoped>\n",
       "    .dataframe tbody tr th:only-of-type {\n",
       "        vertical-align: middle;\n",
       "    }\n",
       "\n",
       "    .dataframe tbody tr th {\n",
       "        vertical-align: top;\n",
       "    }\n",
       "\n",
       "    .dataframe thead th {\n",
       "        text-align: right;\n",
       "    }\n",
       "</style>\n",
       "<table border=\"1\" class=\"dataframe\">\n",
       "  <thead>\n",
       "    <tr style=\"text-align: right;\">\n",
       "      <th></th>\n",
       "      <th>t_msec</th>\n",
       "      <th>R_m</th>\n",
       "      <th>t_sec</th>\n",
       "      <th>R_cm</th>\n",
       "      <th>log10_t</th>\n",
       "      <th>log10_R</th>\n",
       "      <th>5/2*log10_R</th>\n",
       "    </tr>\n",
       "  </thead>\n",
       "  <tbody>\n",
       "    <tr>\n",
       "      <th>0</th>\n",
       "      <td>0.10</td>\n",
       "      <td>11.1</td>\n",
       "      <td>0.00010</td>\n",
       "      <td>1110.0</td>\n",
       "      <td>-4.000000</td>\n",
       "      <td>3.045323</td>\n",
       "      <td>7.613307</td>\n",
       "    </tr>\n",
       "    <tr>\n",
       "      <th>1</th>\n",
       "      <td>0.24</td>\n",
       "      <td>19.9</td>\n",
       "      <td>0.00024</td>\n",
       "      <td>1990.0</td>\n",
       "      <td>-3.619789</td>\n",
       "      <td>3.298853</td>\n",
       "      <td>8.247133</td>\n",
       "    </tr>\n",
       "    <tr>\n",
       "      <th>2</th>\n",
       "      <td>0.38</td>\n",
       "      <td>25.4</td>\n",
       "      <td>0.00038</td>\n",
       "      <td>2540.0</td>\n",
       "      <td>-3.420216</td>\n",
       "      <td>3.404834</td>\n",
       "      <td>8.512084</td>\n",
       "    </tr>\n",
       "    <tr>\n",
       "      <th>3</th>\n",
       "      <td>0.52</td>\n",
       "      <td>28.8</td>\n",
       "      <td>0.00052</td>\n",
       "      <td>2880.0</td>\n",
       "      <td>-3.283997</td>\n",
       "      <td>3.459392</td>\n",
       "      <td>8.648481</td>\n",
       "    </tr>\n",
       "    <tr>\n",
       "      <th>4</th>\n",
       "      <td>0.66</td>\n",
       "      <td>31.9</td>\n",
       "      <td>0.00066</td>\n",
       "      <td>3190.0</td>\n",
       "      <td>-3.180456</td>\n",
       "      <td>3.503791</td>\n",
       "      <td>8.759477</td>\n",
       "    </tr>\n",
       "  </tbody>\n",
       "</table>\n",
       "</div>"
      ],
      "text/plain": [
       "   t_msec   R_m    t_sec    R_cm   log10_t   log10_R  5/2*log10_R\n",
       "0    0.10  11.1  0.00010  1110.0 -4.000000  3.045323     7.613307\n",
       "1    0.24  19.9  0.00024  1990.0 -3.619789  3.298853     8.247133\n",
       "2    0.38  25.4  0.00038  2540.0 -3.420216  3.404834     8.512084\n",
       "3    0.52  28.8  0.00052  2880.0 -3.283997  3.459392     8.648481\n",
       "4    0.66  31.9  0.00066  3190.0 -3.180456  3.503791     8.759477"
      ]
     },
     "execution_count": 5,
     "metadata": {},
     "output_type": "execute_result"
    }
   ],
   "source": [
    "df.head()"
   ]
  },
  {
   "cell_type": "code",
   "execution_count": 8,
   "metadata": {},
   "outputs": [
    {
     "data": {
      "image/png": "[encoded data removed]",
      "text/plain": [
       "<Figure size 504x504 with 1 Axes>"
      ]
     },
     "metadata": {},
     "output_type": "display_data"
    }
   ],
   "source": [
    "fig, ax = plt.subplots()\n",
    "fig.set_size_inches(7, 7)\n",
    "xmin, xmax = -4.1, -1\n",
    "ymin, ymax = 7.5, 11\n",
    "ax.set_title(r'Radius $R$ of blast wave at time $t$ after explosion', fontsize=18)\n",
    "ax.scatter(df['log10_t'], df['5/2*log10_R'], s=180, marker='+', color='r')\n",
    "logt = np.linspace(xmin, xmax, 2)\n",
    "ax.plot(logt, logt + 11.915, 'b--')\n",
    "ax.set_xlim(xmin, xmax)\n",
    "ax.set_ylim(ymin, ymax)\n",
    "ax.set_xlabel(r'$\\log(t)$', fontsize=18)\n",
    "ax.set_ylabel(r'$\\frac{5}{2}\\log(R)$', fontsize=18)\n",
    "# ax.set_xticklabels(x_ticks, rotation=0, fontsize=15)\n",
    "# ax.set_yticklabels(y_ticks, rotation=0, fontsize=15)\n",
    "plt.rc('xtick',labelsize=18)\n",
    "plt.rc('ytick',labelsize=18);\n",
    "# fig.savefig('plots/BlastWaveRadius.pdf', bbox_inches='tight')"
   ]
  },
  {
   "cell_type": "code",
   "execution_count": null,
   "metadata": {},
   "outputs": [],
   "source": []
  },
  {
   "cell_type": "code",
   "execution_count": null,
   "metadata": {},
   "outputs": [],
   "source": []
  },
  {
   "cell_type": "code",
   "execution_count": null,
   "metadata": {},
   "outputs": [],
   "source": []
  },
  {
   "cell_type": "code",
   "execution_count": null,
   "metadata": {},
   "outputs": [],
   "source": []
  },
  {
   "cell_type": "code",
   "execution_count": null,
   "metadata": {},
   "outputs": [],
   "source": []
  }
 ],
 "metadata": {
  "kernelspec": {
   "display_name": "Python 3",
   "language": "python",
   "name": "python3"
  },
  "language_info": {
   "codemirror_mode": {
    "name": "ipython",
    "version": 3
   },
   "file_extension": ".py",
   "mimetype": "text/x-python",
   "name": "python",
   "nbconvert_exporter": "python",
   "pygments_lexer": "ipython3",
   "version": "3.6.8"
  }
 },
 "nbformat": 4,
 "nbformat_minor": 2
}
