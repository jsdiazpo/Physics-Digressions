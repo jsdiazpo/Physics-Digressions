{
 "cells": [
  {
   "cell_type": "code",
   "execution_count": 1,
   "metadata": {},
   "outputs": [],
   "source": [
    "import numpy as np\n",
    "import pandas as pd\n",
    "import matplotlib.pyplot as plt\n",
    "%matplotlib inline\n",
    "plt.rcParams['figure.facecolor'] = 'w'\n",
    "from matplotlib import rc\n",
    "rc('text',usetex=True)\n",
    "rc('font',**{'family':'serif','serif':['Computer Modern'], 'size' : 18})\n",
    "plt.rcParams.update({'font.size': 18})\n",
    "plt.rcParams['axes.titlesize'] = 18"
   ]
  },
  {
   "cell_type": "markdown",
   "metadata": {},
   "source": [
    "# Trinity explosion\n",
    "\n",
    "Data from [G.I. Taylor *The formation of a blast wave by a very intense explosion: II. The atomic explosion of 1945.* Proc. R. Soc. Lond. **A201** 175–186](https://royalsocietypublishing.org/doi/pdf/10.1098/rspa.1950.0050#page=2)"
   ]
  },
  {
   "cell_type": "code",
   "execution_count": 2,
   "metadata": {},
   "outputs": [],
   "source": [
    "df = pd.read_csv('data/GITaylor_Trinity_data.csv')"
   ]
  },
  {
   "cell_type": "code",
   "execution_count": 23,
   "metadata": {},
   "outputs": [
    {
     "data": {
      "text/html": [
       "<div>\n",
       "<style scoped>\n",
       "    .dataframe tbody tr th:only-of-type {\n",
       "        vertical-align: middle;\n",
       "    }\n",
       "\n",
       "    .dataframe tbody tr th {\n",
       "        vertical-align: top;\n",
       "    }\n",
       "\n",
       "    .dataframe thead th {\n",
       "        text-align: right;\n",
       "    }\n",
       "</style>\n",
       "<table border=\"1\" class=\"dataframe\">\n",
       "  <thead>\n",
       "    <tr style=\"text-align: right;\">\n",
       "      <th></th>\n",
       "      <th>t_msec</th>\n",
       "      <th>R_m</th>\n",
       "      <th>t_sec</th>\n",
       "      <th>log10_t</th>\n",
       "      <th>log10_R</th>\n",
       "      <th>5/2*log10_R</th>\n",
       "    </tr>\n",
       "  </thead>\n",
       "  <tbody>\n",
       "    <tr>\n",
       "      <th>0</th>\n",
       "      <td>0.10</td>\n",
       "      <td>11.1</td>\n",
       "      <td>0.00010</td>\n",
       "      <td>-4.000000</td>\n",
       "      <td>2.613307</td>\n",
       "      <td>2.613307</td>\n",
       "    </tr>\n",
       "    <tr>\n",
       "      <th>1</th>\n",
       "      <td>0.24</td>\n",
       "      <td>19.9</td>\n",
       "      <td>0.00024</td>\n",
       "      <td>-3.619789</td>\n",
       "      <td>3.247133</td>\n",
       "      <td>3.247133</td>\n",
       "    </tr>\n",
       "    <tr>\n",
       "      <th>2</th>\n",
       "      <td>0.38</td>\n",
       "      <td>25.4</td>\n",
       "      <td>0.00038</td>\n",
       "      <td>-3.420216</td>\n",
       "      <td>3.512084</td>\n",
       "      <td>3.512084</td>\n",
       "    </tr>\n",
       "    <tr>\n",
       "      <th>3</th>\n",
       "      <td>0.52</td>\n",
       "      <td>28.8</td>\n",
       "      <td>0.00052</td>\n",
       "      <td>-3.283997</td>\n",
       "      <td>3.648481</td>\n",
       "      <td>3.648481</td>\n",
       "    </tr>\n",
       "    <tr>\n",
       "      <th>4</th>\n",
       "      <td>0.66</td>\n",
       "      <td>31.9</td>\n",
       "      <td>0.00066</td>\n",
       "      <td>-3.180456</td>\n",
       "      <td>3.759477</td>\n",
       "      <td>3.759477</td>\n",
       "    </tr>\n",
       "  </tbody>\n",
       "</table>\n",
       "</div>"
      ],
      "text/plain": [
       "   t_msec   R_m    t_sec   log10_t   log10_R  5/2*log10_R\n",
       "0    0.10  11.1  0.00010 -4.000000  2.613307     2.613307\n",
       "1    0.24  19.9  0.00024 -3.619789  3.247133     3.247133\n",
       "2    0.38  25.4  0.00038 -3.420216  3.512084     3.512084\n",
       "3    0.52  28.8  0.00052 -3.283997  3.648481     3.648481\n",
       "4    0.66  31.9  0.00066 -3.180456  3.759477     3.759477"
      ]
     },
     "execution_count": 23,
     "metadata": {},
     "output_type": "execute_result"
    }
   ],
   "source": [
    "df['t_sec'] = df['t_msec'] * 1e-3  # convert msec to sec\n",
    "\n",
    "df['log10_t'] = df['t_sec'].apply(lambda x: np.log10(x))\n",
    "df['5/2*log10_R'] = df['R_m'].apply(lambda x: 5/2*np.log10(x))\n",
    "df.head()"
   ]
  },
  {
   "cell_type": "code",
   "execution_count": 14,
   "metadata": {},
   "outputs": [
    {
     "data": {
      "image/png": "[encoded data removed]",
      "text/plain": [
       "<Figure size 504x504 with 1 Axes>"
      ]
     },
     "metadata": {},
     "output_type": "display_data"
    }
   ],
   "source": [
    "fig, ax = plt.subplots()\n",
    "fig.set_size_inches(7, 7)\n",
    "xmin, xmax = -4.5, 0\n",
    "ymin, ymax = 2, 7\n",
    "ax.scatter(df['log10_t'], df['5/2*log10_R'], s=180, marker='+', color='r')\n",
    "ax.set(xlim=[xmin, xmax], ylim=[ymin, ymax], \n",
    "       xlabel=r'$\\log(t)$', ylabel=r'$\\frac{5}{2}\\log(R)$',\n",
    "       title=r'Radius $R$ of blast wave at time $t$ after explosion');"
   ]
  },
  {
   "cell_type": "markdown",
   "metadata": {},
   "source": [
    "Let us fit a straight line to this data using a simple linear regression"
   ]
  },
  {
   "cell_type": "code",
   "execution_count": 15,
   "metadata": {},
   "outputs": [
    {
     "data": {
      "text/plain": [
       "((25,), (25, 1))"
      ]
     },
     "execution_count": 15,
     "metadata": {},
     "output_type": "execute_result"
    }
   ],
   "source": [
    "# set up data\n",
    "X = df['log10_t'].values.reshape(1, -1).T\n",
    "y = df['5/2*log10_R'].values\n",
    "y.shape, X.shape"
   ]
  },
  {
   "cell_type": "code",
   "execution_count": 17,
   "metadata": {},
   "outputs": [
    {
     "name": "stdout",
     "output_type": "stream",
     "text": [
      "slope    : m = 1.01\n",
      "intercept: n = 6.94\n"
     ]
    }
   ],
   "source": [
    "# fit Linear Regression: y = mx+n\n",
    "from sklearn.linear_model import LinearRegression\n",
    "model = LinearRegression()\n",
    "model.fit(X, y)\n",
    "print(f'slope    : m = {model.coef_[0]:.2f}')\n",
    "print(f'intercept: n = {model.intercept_:.2f}')"
   ]
  },
  {
   "cell_type": "code",
   "execution_count": 18,
   "metadata": {},
   "outputs": [
    {
     "name": "stderr",
     "output_type": "stream",
     "text": [
      "c:\\users\\jsdiaz\\anaconda3\\lib\\site-packages\\matplotlib\\font_manager.py:1241: UserWarning: findfont: Font family ['serif'] not found. Falling back to DejaVu Sans.\n",
      "  (prop.get_family(), self.defaultFamily[fontext]))\n"
     ]
    },
    {
     "data": {
      "image/png": "[encoded data removed]",
      "text/plain": [
       "<Figure size 504x504 with 1 Axes>"
      ]
     },
     "metadata": {},
     "output_type": "display_data"
    }
   ],
   "source": [
    "fig, ax = plt.subplots()\n",
    "fig.set_size_inches(7, 7)\n",
    "xmin, xmax = -4.5, 0\n",
    "ymin, ymax = 2, 7\n",
    "\n",
    "ax.scatter(df['log10_t'], df['5/2*log10_R'], s=180, marker='+', color='r', label='data', zorder=10)\n",
    "# plot linear fit\n",
    "logt = np.linspace(xmin, xmax, 2)\n",
    "ax.plot(logt, model.intercept_ + model.coef_[0] * logt, 'k--', linewidth=1, \n",
    "        label=f'linear regression', zorder=0, alpha=0.95)\n",
    "\n",
    "ax.set(xlim=[xmin, xmax], ylim=[ymin, ymax], \n",
    "       xlabel=r'$\\log(t)$', ylabel=r'$\\frac{5}{2}\\log(R)$',\n",
    "       title=r'Radius $R$ of blast wave at time $t$ after explosion');\n",
    "ax.legend(fontsize=15);\n",
    "# fig.savefig('plots/TrinityBlastWave-Taylor.pdf', bbox_inches='tight')"
   ]
  },
  {
   "cell_type": "markdown",
   "metadata": {},
   "source": [
    "The energy is given in terms of the intercept $n$ as\n",
    "\n",
    "$$ E_0 = \\frac{10^{2n}\\rho_0}{S(\\gamma)^5} $$\n",
    "\n",
    "where $\\rho_0$=1.23 kg/m$^3$ in the density of the undisturbed air and the constant for air ($\\gamma=1.4$) is $S(1.4)^{-5}$ = 0.856."
   ]
  },
  {
   "cell_type": "code",
   "execution_count": 22,
   "metadata": {},
   "outputs": [
    {
     "name": "stdout",
     "output_type": "stream",
     "text": [
      "E = 19.0 kt TNT  (8.05E+13 J)\n"
     ]
    }
   ],
   "source": [
    "# explosion yield in kt TNT\n",
    "# 1 TJ = 4.25 kt TNT\n",
    "E0 = 10**(2*model.intercept_) * 0.856 * 1.23\n",
    "print(f'E = {E0 / ( 4.25e12):.1f} kt TNT  ({E0:.2E} J)')"
   ]
  },
  {
   "cell_type": "code",
   "execution_count": null,
   "metadata": {},
   "outputs": [],
   "source": []
  },
  {
   "cell_type": "code",
   "execution_count": null,
   "metadata": {},
   "outputs": [],
   "source": []
  },
  {
   "cell_type": "code",
   "execution_count": null,
   "metadata": {},
   "outputs": [],
   "source": []
  },
  {
   "cell_type": "code",
   "execution_count": null,
   "metadata": {},
   "outputs": [],
   "source": []
  },
  {
   "cell_type": "code",
   "execution_count": null,
   "metadata": {},
   "outputs": [],
   "source": []
  },
  {
   "cell_type": "code",
   "execution_count": null,
   "metadata": {},
   "outputs": [],
   "source": []
  },
  {
   "cell_type": "code",
   "execution_count": null,
   "metadata": {},
   "outputs": [],
   "source": []
  },
  {
   "cell_type": "code",
   "execution_count": null,
   "metadata": {},
   "outputs": [],
   "source": []
  }
 ],
 "metadata": {
  "kernelspec": {
   "display_name": "Python 3",
   "language": "python",
   "name": "python3"
  },
  "language_info": {
   "codemirror_mode": {
    "name": "ipython",
    "version": 3
   },
   "file_extension": ".py",
   "mimetype": "text/x-python",
   "name": "python",
   "nbconvert_exporter": "python",
   "pygments_lexer": "ipython3",
   "version": "3.6.8"
  }
 },
 "nbformat": 4,
 "nbformat_minor": 2
}
