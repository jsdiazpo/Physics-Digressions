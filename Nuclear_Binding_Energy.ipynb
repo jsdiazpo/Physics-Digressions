{
 "cells": [
  {
   "cell_type": "code",
   "execution_count": 1,
   "metadata": {},
   "outputs": [],
   "source": [
    "import numpy as np\n",
    "import pandas as pd\n",
    "import matplotlib.pyplot as plt\n",
    "%matplotlib inline\n",
    "plt.rcParams['figure.facecolor'] = 'w'\n",
    "import matplotlib.patches as patches"
   ]
  },
  {
   "cell_type": "code",
   "execution_count": 2,
   "metadata": {},
   "outputs": [],
   "source": [
    "# https://scipython.com/blog/nuclear-binding-energies-1/\n",
    "# Read the experimental data into a Pandas DataFrame.\n",
    "data = pd.read_fwf('data/mass.mas03', usecols=(2,3,4,11),\n",
    "              names=('N', 'Z', 'A', 'avEbind'),\n",
    "              widths=(1,3,5,5,5,1,3,4,1,13,11,11,9,1,2,11,9,1,3,1,12,11,1),\n",
    "              header=39,\n",
    "              index_col=False)"
   ]
  },
  {
   "cell_type": "code",
   "execution_count": 3,
   "metadata": {},
   "outputs": [
    {
     "data": {
      "text/html": [
       "<div>\n",
       "<style scoped>\n",
       "    .dataframe tbody tr th:only-of-type {\n",
       "        vertical-align: middle;\n",
       "    }\n",
       "\n",
       "    .dataframe tbody tr th {\n",
       "        vertical-align: top;\n",
       "    }\n",
       "\n",
       "    .dataframe thead th {\n",
       "        text-align: right;\n",
       "    }\n",
       "</style>\n",
       "<table border=\"1\" class=\"dataframe\">\n",
       "  <thead>\n",
       "    <tr style=\"text-align: right;\">\n",
       "      <th></th>\n",
       "      <th>N</th>\n",
       "      <th>Z</th>\n",
       "      <th>A</th>\n",
       "      <th>avEbind</th>\n",
       "    </tr>\n",
       "  </thead>\n",
       "  <tbody>\n",
       "    <tr>\n",
       "      <th>0</th>\n",
       "      <td>0</td>\n",
       "      <td>1</td>\n",
       "      <td>1</td>\n",
       "      <td>0.0</td>\n",
       "    </tr>\n",
       "    <tr>\n",
       "      <th>1</th>\n",
       "      <td>1</td>\n",
       "      <td>1</td>\n",
       "      <td>2</td>\n",
       "      <td>1112.283</td>\n",
       "    </tr>\n",
       "    <tr>\n",
       "      <th>2</th>\n",
       "      <td>2</td>\n",
       "      <td>1</td>\n",
       "      <td>3</td>\n",
       "      <td>2827.266</td>\n",
       "    </tr>\n",
       "    <tr>\n",
       "      <th>3</th>\n",
       "      <td>1</td>\n",
       "      <td>2</td>\n",
       "      <td>3</td>\n",
       "      <td>2572.681</td>\n",
       "    </tr>\n",
       "    <tr>\n",
       "      <th>4</th>\n",
       "      <td>0</td>\n",
       "      <td>3</td>\n",
       "      <td>3</td>\n",
       "      <td>-2267#</td>\n",
       "    </tr>\n",
       "  </tbody>\n",
       "</table>\n",
       "</div>"
      ],
      "text/plain": [
       "   N  Z  A   avEbind\n",
       "0  0  1  1       0.0\n",
       "1  1  1  2  1112.283\n",
       "2  2  1  3  2827.266\n",
       "3  1  2  3  2572.681\n",
       "4  0  3  3    -2267#"
      ]
     },
     "execution_count": 3,
     "metadata": {},
     "output_type": "execute_result"
    }
   ],
   "source": [
    "data.head()"
   ]
  },
  {
   "cell_type": "code",
   "execution_count": 5,
   "metadata": {},
   "outputs": [],
   "source": [
    "# Extrapolated values are indicated by '#' in place of the decimal place, so\n",
    "# the avEbind column won't be numeric. Coerce to float and drop these entries.\n",
    "data['avEbind'] = pd.to_numeric(data['avEbind'], errors='coerce')\n",
    "data = data.dropna()\n",
    "# Also convert from keV to MeV.\n",
    "data['avEbind'] /= 1000\n",
    "\n",
    "# Group the DataFrame by nucleon number, A.\n",
    "gdf = data.groupby('A')\n",
    "# Find the rows of the grouped DataFrame with the maximum binding energy.\n",
    "maxavEbind = gdf.apply(lambda t: t[t.avEbind==t.avEbind.max()])"
   ]
  },
  {
   "cell_type": "code",
   "execution_count": 7,
   "metadata": {},
   "outputs": [
    {
     "data": {
      "image/png": "[encoded data removed]",
      "text/plain": [
       "<Figure size 432x288 with 1 Axes>"
      ]
     },
     "metadata": {},
     "output_type": "display_data"
    }
   ],
   "source": [
    "# Generate a plot comparing the experimental with the SEMF values.\n",
    "fig, ax = plt.subplots()\n",
    "ax.plot(maxavEbind['A'], maxavEbind['avEbind'], alpha=0.7, lw=2,\n",
    "            label='Ame2003')\n",
    "# ax.plot(maxavEbind['A'], maxavEbind['Eapprox'], alpha=0.7, lw=2, c='m',\n",
    "#             label='SEMF')\n",
    "ax.set_xlabel(r'$A = N + Z$')\n",
    "ax.set_ylabel(r'$E_\\mathrm{bind}\\,/\\mathrm{MeV}$')\n",
    "ax.legend()\n",
    "# We don't expect the SEMF to work very well for light nuclei with small\n",
    "# average binding energies, so display only data relevant to avEbind > 7 MeV.\n",
    "ax.set_xlim(1, 245)\n",
    "ax.set_ylim(2, 10);"
   ]
  },
  {
   "cell_type": "code",
   "execution_count": null,
   "metadata": {},
   "outputs": [],
   "source": []
  },
  {
   "cell_type": "code",
   "execution_count": 8,
   "metadata": {},
   "outputs": [],
   "source": [
    "df = maxavEbind\n",
    "df['avEbind'] = -df['avEbind']"
   ]
  },
  {
   "cell_type": "code",
   "execution_count": null,
   "metadata": {},
   "outputs": [],
   "source": []
  },
  {
   "cell_type": "code",
   "execution_count": 9,
   "metadata": {},
   "outputs": [
    {
     "data": {
      "image/png": "[encoded data removed]",
      "text/plain": [
       "<Figure size 720x360 with 1 Axes>"
      ]
     },
     "metadata": {},
     "output_type": "display_data"
    }
   ],
   "source": [
    "elements_names  = ['He', 'C', 'O', 'Si', 'Fe', 'Cs', 'Po', 'U']\n",
    "elements_nr = [4, 12, 16, 34, 56, 137, 210, 235]\n",
    "\n",
    "fig, ax = plt.subplots()\n",
    "fig.set_size_inches(10, 5)\n",
    "ymin, ymax = -10, -4\n",
    "xmin, xmax = 0, 250\n",
    "\n",
    "ax.plot(df['A'], df['avEbind'], alpha=1, lw=2, label='Ame2003', zorder=-1)\n",
    "\n",
    "for name, nr in zip(elements_names, elements_nr):\n",
    "    ax.scatter(df['A'][nr], df['avEbind'][nr], alpha=1, s=65, zorder=1)\n",
    "    if nr == 4:\n",
    "        dx = 4\n",
    "    else:\n",
    "        dx = 7\n",
    "    ax.text(df['A'][nr]-dx, df['avEbind'][nr]-0.4, f'$^{{{nr}}}$' + name, fontsize=12)\n",
    "ax.set_xlabel(r'atomic mass number ($N + Z$)')\n",
    "ax.set_ylabel('Binding Energy per Nucleon (MeV)')\n",
    "ax.set_xlim(xmin, xmax)\n",
    "ax.set_ylim(ymin, ymax)\n",
    "\n",
    "rect1 = patches.Rectangle((xmin, ymin), 56, (ymax-ymin), facecolor='b', alpha=.08, zorder=-2)\n",
    "rect2 = patches.Rectangle((56, ymin), xmax-56, (ymax-ymin), facecolor='g', alpha=.08, zorder=-2)\n",
    "ax.add_patch(rect1)\n",
    "ax.add_patch(rect2);\n",
    "\n",
    "# ax.plot([56, 56], [ymin, ymax], 'k--', alpha=.3);\n",
    "# fig.savefig('img/nuclear_binding_energy.pdf', bbox_inches='tight');"
   ]
  },
  {
   "cell_type": "code",
   "execution_count": 131,
   "metadata": {},
   "outputs": [],
   "source": []
  },
  {
   "cell_type": "code",
   "execution_count": null,
   "metadata": {},
   "outputs": [],
   "source": []
  },
  {
   "cell_type": "code",
   "execution_count": null,
   "metadata": {},
   "outputs": [],
   "source": []
  }
 ],
 "metadata": {
  "kernelspec": {
   "display_name": "Python 3",
   "language": "python",
   "name": "python3"
  },
  "language_info": {
   "codemirror_mode": {
    "name": "ipython",
    "version": 3
   },
   "file_extension": ".py",
   "mimetype": "text/x-python",
   "name": "python",
   "nbconvert_exporter": "python",
   "pygments_lexer": "ipython3",
   "version": "3.6.8"
  }
 },
 "nbformat": 4,
 "nbformat_minor": 2
}
