{
 "cells": [
  {
   "cell_type": "code",
   "execution_count": 3,
   "metadata": {},
   "outputs": [],
   "source": [
    "import numpy as np\n",
    "import pandas as pd\n",
    "import matplotlib.pyplot as plt\n",
    "%matplotlib inline\n",
    "plt.rcParams['figure.facecolor'] = 'w'"
   ]
  },
  {
   "cell_type": "code",
   "execution_count": 4,
   "metadata": {},
   "outputs": [],
   "source": [
    "# https://scipython.com/blog/nuclear-binding-energies-1/\n",
    "# Read the experimental data into a Pandas DataFrame.\n",
    "df = pd.read_fwf('data/mass.mas03', usecols=(2,3,4,11),\n",
    "              names=('N', 'Z', 'A', 'avEbind'),\n",
    "              widths=(1,3,5,5,5,1,3,4,1,13,11,11,9,1,2,11,9,1,3,1,12,11,1),\n",
    "              header=39,\n",
    "              index_col=False)"
   ]
  },
  {
   "cell_type": "code",
   "execution_count": 6,
   "metadata": {},
   "outputs": [
    {
     "data": {
      "text/html": [
       "<div>\n",
       "<style scoped>\n",
       "    .dataframe tbody tr th:only-of-type {\n",
       "        vertical-align: middle;\n",
       "    }\n",
       "\n",
       "    .dataframe tbody tr th {\n",
       "        vertical-align: top;\n",
       "    }\n",
       "\n",
       "    .dataframe thead th {\n",
       "        text-align: right;\n",
       "    }\n",
       "</style>\n",
       "<table border=\"1\" class=\"dataframe\">\n",
       "  <thead>\n",
       "    <tr style=\"text-align: right;\">\n",
       "      <th></th>\n",
       "      <th>N</th>\n",
       "      <th>Z</th>\n",
       "      <th>A</th>\n",
       "      <th>avEbind</th>\n",
       "    </tr>\n",
       "  </thead>\n",
       "  <tbody>\n",
       "    <tr>\n",
       "      <th>0</th>\n",
       "      <td>0</td>\n",
       "      <td>1</td>\n",
       "      <td>1</td>\n",
       "      <td>0.0</td>\n",
       "    </tr>\n",
       "    <tr>\n",
       "      <th>1</th>\n",
       "      <td>1</td>\n",
       "      <td>1</td>\n",
       "      <td>2</td>\n",
       "      <td>1112.283</td>\n",
       "    </tr>\n",
       "    <tr>\n",
       "      <th>2</th>\n",
       "      <td>2</td>\n",
       "      <td>1</td>\n",
       "      <td>3</td>\n",
       "      <td>2827.266</td>\n",
       "    </tr>\n",
       "    <tr>\n",
       "      <th>3</th>\n",
       "      <td>1</td>\n",
       "      <td>2</td>\n",
       "      <td>3</td>\n",
       "      <td>2572.681</td>\n",
       "    </tr>\n",
       "    <tr>\n",
       "      <th>4</th>\n",
       "      <td>0</td>\n",
       "      <td>3</td>\n",
       "      <td>3</td>\n",
       "      <td>-2267#</td>\n",
       "    </tr>\n",
       "  </tbody>\n",
       "</table>\n",
       "</div>"
      ],
      "text/plain": [
       "   N  Z  A   avEbind\n",
       "0  0  1  1       0.0\n",
       "1  1  1  2  1112.283\n",
       "2  2  1  3  2827.266\n",
       "3  1  2  3  2572.681\n",
       "4  0  3  3    -2267#"
      ]
     },
     "execution_count": 6,
     "metadata": {},
     "output_type": "execute_result"
    }
   ],
   "source": [
    "df.head()"
   ]
  },
  {
   "cell_type": "code",
   "execution_count": 7,
   "metadata": {},
   "outputs": [],
   "source": [
    "# Extrapolated values are indicated by '#' in place of the decimal place, so\n",
    "# the avEbind column won't be numeric. Coerce to float and drop these entries.\n",
    "df['avEbind'] = pd.to_numeric(df['avEbind'], errors='coerce')\n",
    "df = df.dropna()\n",
    "# Also convert from keV to MeV.\n",
    "df['avEbind'] /= 1000\n",
    "\n",
    "# Group the DataFrame by nucleon number, A.\n",
    "gdf = df.groupby('A')\n",
    "# Find the rows of the grouped DataFrame with the maximum binding energy.\n",
    "maxavEbind = gdf.apply(lambda t: t[t.avEbind==t.avEbind.max()])"
   ]
  },
  {
   "cell_type": "code",
   "execution_count": 8,
   "metadata": {},
   "outputs": [
    {
     "data": {
      "text/html": [
       "<div>\n",
       "<style scoped>\n",
       "    .dataframe tbody tr th:only-of-type {\n",
       "        vertical-align: middle;\n",
       "    }\n",
       "\n",
       "    .dataframe tbody tr th {\n",
       "        vertical-align: top;\n",
       "    }\n",
       "\n",
       "    .dataframe thead th {\n",
       "        text-align: right;\n",
       "    }\n",
       "</style>\n",
       "<table border=\"1\" class=\"dataframe\">\n",
       "  <thead>\n",
       "    <tr style=\"text-align: right;\">\n",
       "      <th></th>\n",
       "      <th></th>\n",
       "      <th>N</th>\n",
       "      <th>Z</th>\n",
       "      <th>A</th>\n",
       "      <th>avEbind</th>\n",
       "    </tr>\n",
       "    <tr>\n",
       "      <th>A</th>\n",
       "      <th></th>\n",
       "      <th></th>\n",
       "      <th></th>\n",
       "      <th></th>\n",
       "      <th></th>\n",
       "    </tr>\n",
       "  </thead>\n",
       "  <tbody>\n",
       "    <tr>\n",
       "      <th>1</th>\n",
       "      <th>0</th>\n",
       "      <td>0</td>\n",
       "      <td>1</td>\n",
       "      <td>1</td>\n",
       "      <td>0.000000</td>\n",
       "    </tr>\n",
       "    <tr>\n",
       "      <th>2</th>\n",
       "      <th>1</th>\n",
       "      <td>1</td>\n",
       "      <td>1</td>\n",
       "      <td>2</td>\n",
       "      <td>1.112283</td>\n",
       "    </tr>\n",
       "    <tr>\n",
       "      <th>3</th>\n",
       "      <th>2</th>\n",
       "      <td>2</td>\n",
       "      <td>1</td>\n",
       "      <td>3</td>\n",
       "      <td>2.827266</td>\n",
       "    </tr>\n",
       "    <tr>\n",
       "      <th>4</th>\n",
       "      <th>6</th>\n",
       "      <td>2</td>\n",
       "      <td>2</td>\n",
       "      <td>4</td>\n",
       "      <td>7.073915</td>\n",
       "    </tr>\n",
       "    <tr>\n",
       "      <th>5</th>\n",
       "      <th>9</th>\n",
       "      <td>3</td>\n",
       "      <td>2</td>\n",
       "      <td>5</td>\n",
       "      <td>5.481132</td>\n",
       "    </tr>\n",
       "  </tbody>\n",
       "</table>\n",
       "</div>"
      ],
      "text/plain": [
       "     N  Z  A   avEbind\n",
       "A                     \n",
       "1 0  0  1  1  0.000000\n",
       "2 1  1  1  2  1.112283\n",
       "3 2  2  1  3  2.827266\n",
       "4 6  2  2  4  7.073915\n",
       "5 9  3  2  5  5.481132"
      ]
     },
     "execution_count": 8,
     "metadata": {},
     "output_type": "execute_result"
    }
   ],
   "source": [
    "maxavEbind.head()"
   ]
  },
  {
   "cell_type": "code",
   "execution_count": 10,
   "metadata": {},
   "outputs": [],
   "source": [
    "def SEMF(Z, N):\n",
    "    \"\"\"Calculate the average binding energy per nucleon for nucleus Z, N.\n",
    "\n",
    "    Calculate the average nuclear binding energy per nucleon for a nucleus\n",
    "    with Z protons and N neutrons, using the semi-empirical mass formula and\n",
    "    parameters of J. W. Rohlf, \"Modern Physics from alpha to Z0\", Wiley (1994).\n",
    "\n",
    "    Z and N can be NumPy arrays or scalar values.\n",
    "\n",
    "    \"\"\"\n",
    "\n",
    "    # The parameterization of the SEMF to use.\n",
    "    aV, aS, aC, aA, delta = 15.75, 17.8, 0.711, 23.7, 11.18\n",
    "\n",
    "    # Covert Z and N to NumPy arrays if they aren't already\n",
    "    Z, N = np.atleast_1d(Z), np.atleast_1d(N)\n",
    "    # Total number of nucleons\n",
    "    A = Z + N\n",
    "\n",
    "    # The pairing term is -delta for Z and N both odd, +delta for Z and N both\n",
    "    # even, and 0 otherwise. Create an array of the sign of this term so that\n",
    "    # we can vectorize the calculation across the arrays Z and N.\n",
    "    sgn = np.zeros(Z.shape)\n",
    "    sgn[(Z%2) & (N%2)] = -1\n",
    "    sgn[~(Z%2) & ~(N%2)] = +1\n",
    "\n",
    "    # The SEMF for the average binding energy per nucleon.\n",
    "    E = (aV - aS / A**(1/3) - aC * Z**2 / A**(4/3) -\n",
    "         aA * (A-2*Z)**2/A**2 + sgn * delta/A**(3/2))\n",
    "\n",
    "    # Return E as a scalar or array as appropriate to the input Z.\n",
    "    if Z.shape[0] == 1:\n",
    "        return float(E)\n",
    "    return E"
   ]
  },
  {
   "cell_type": "code",
   "execution_count": 11,
   "metadata": {},
   "outputs": [],
   "source": [
    "# Add a column of estimated binding energies calculated using the SEMF.\n",
    "maxavEbind['Eapprox'] = SEMF(maxavEbind['Z'], maxavEbind['N'])"
   ]
  },
  {
   "cell_type": "code",
   "execution_count": 23,
   "metadata": {},
   "outputs": [
    {
     "data": {
      "image/png": "[encoded data removed]",
      "text/plain": [
       "<Figure size 432x288 with 1 Axes>"
      ]
     },
     "metadata": {},
     "output_type": "display_data"
    }
   ],
   "source": [
    "# Generate a plot comparing the experimental with the SEMF values.\n",
    "fig, ax = plt.subplots()\n",
    "ax.plot(maxavEbind['A'], maxavEbind['avEbind'], alpha=0.7, lw=2,\n",
    "            label='Ame2003')\n",
    "# ax.plot(maxavEbind['A'], maxavEbind['Eapprox'], alpha=0.7, lw=2, c='m',\n",
    "#             label='SEMF')\n",
    "ax.set_xlabel(r'$A = N + Z$')\n",
    "ax.set_ylabel(r'$E_\\mathrm{bind}\\,/\\mathrm{MeV}$')\n",
    "ax.legend()\n",
    "# We don't expect the SEMF to work very well for light nuclei with small\n",
    "# average binding energies, so display only data relevant to avEbind > 7 MeV.\n",
    "ax.set_xlim(1, 245)\n",
    "ax.set_ylim(2, 10);"
   ]
  },
  {
   "cell_type": "code",
   "execution_count": null,
   "metadata": {},
   "outputs": [],
   "source": []
  },
  {
   "cell_type": "code",
   "execution_count": null,
   "metadata": {},
   "outputs": [],
   "source": []
  }
 ],
 "metadata": {
  "kernelspec": {
   "display_name": "Python 3",
   "language": "python",
   "name": "python3"
  },
  "language_info": {
   "codemirror_mode": {
    "name": "ipython",
    "version": 3
   },
   "file_extension": ".py",
   "mimetype": "text/x-python",
   "name": "python",
   "nbconvert_exporter": "python",
   "pygments_lexer": "ipython3",
   "version": "3.6.8"
  }
 },
 "nbformat": 4,
 "nbformat_minor": 2
}
