{
 "cells": [
  {
   "cell_type": "code",
   "execution_count": 1,
   "metadata": {},
   "outputs": [],
   "source": [
    "import numpy as np\n",
    "import pandas as pd\n",
    "import matplotlib.pyplot as plt\n",
    "%matplotlib inline\n",
    "plt.rcParams['figure.facecolor'] = 'w'\n",
    "from matplotlib import rc\n",
    "rc('text',usetex=True)\n",
    "rc('font',**{'family':'serif','serif':['Computer Modern'], 'size' : 18})\n",
    "# rc('font',**{'family':'sans-serif','sans-serif':['Helvetica']})\n",
    "## for Palatino and other serif fonts use:\n",
    "# rc('font',**{'family':'serif','serif':['Palatino']})\n",
    "# rc('text', usetex=True)\n",
    "# import matplotlib.patches as patches\n",
    "# from matplotlib.colors import to_rgba"
   ]
  },
  {
   "cell_type": "code",
   "execution_count": 2,
   "metadata": {},
   "outputs": [],
   "source": [
    "from time import time\n",
    "def runtime(t0):\n",
    "    dt = time() - t0\n",
    "    if dt < 60:\n",
    "        message = f'{dt:.0f} sec.'\n",
    "    elif dt < 3600:\n",
    "        message = f'{dt/60:.0f} min.'\n",
    "    else:\n",
    "        h = int(dt//3600)\n",
    "        m = int((dt%3600) / 60)\n",
    "        message = f'{h} h. {m} min.'\n",
    "    print(message)\n",
    "    \n",
    "def dround(x, dec=2):\n",
    "    x += 1e-9\n",
    "    return float(f'{x:.{dec}f}')"
   ]
  },
  {
   "cell_type": "markdown",
   "metadata": {},
   "source": [
    "# Beirut explosion"
   ]
  },
  {
   "cell_type": "markdown",
   "metadata": {},
   "source": [
    "$ \\frac{5}{2} \\, \\log R = \\frac{5}{2} \\, \\log\\left(S \\sqrt[5]{\\frac{E}{\\rho}}\\right) + \\log t$"
   ]
  },
  {
   "cell_type": "code",
   "execution_count": null,
   "metadata": {},
   "outputs": [],
   "source": []
  },
  {
   "cell_type": "code",
   "execution_count": 23,
   "metadata": {},
   "outputs": [],
   "source": [
    "def get_video_frames(path):\n",
    "    # save video frames and timestamps\n",
    "    folder_path = '/'.join(path.split('/')[:-1])\n",
    "    title = path.split('/')[-1].split('.')[0]\n",
    "    import os\n",
    "    folder_to = f'{folder_path}/video_frames/{title}'\n",
    "    os.mkdir(folder_to)\n",
    "    # use opencv to do the job\n",
    "    import cv2\n",
    "    vidcap = cv2.VideoCapture(path)\n",
    "    cnt, ts = 0, 0\n",
    "    timestamp_file = open(f'{folder_to}/timestamps.txt', 'w')\n",
    "    while True:\n",
    "        success,image = vidcap.read()\n",
    "        timestamp_file.write(f'{cnt} \\t {ts}')\n",
    "        timestamp_file.write('\\n')\n",
    "        if not success:\n",
    "            break\n",
    "        cv2.imwrite(os.path.join(folder_to, f'frame{cnt}_{ts}.jpg'), image)  # save frame as JPEG file\n",
    "        ts = dround(vidcap.get(cv2.CAP_PROP_POS_MSEC) / 1000, dec=3)\n",
    "        cnt += 1\n",
    "    print(f'{cnt} video frames extacted to {folder_to}')\n",
    "    fps = vidcap.get(cv2.CAP_PROP_FPS)\n",
    "    print(f'FPS = {fps}')\n",
    "    # close video and output files\n",
    "    vidcap.release()\n",
    "    timestamp_file.close()"
   ]
  },
  {
   "cell_type": "code",
   "execution_count": 24,
   "metadata": {},
   "outputs": [
    {
     "name": "stdout",
     "output_type": "stream",
     "text": [
      "1101 video frames extacted to data/Beirut-Explosion/video_frames/Beirut-Explosion-south\n",
      "FPS = 29.979577944179713\n"
     ]
    }
   ],
   "source": [
    "get_video_frames('data/Beirut-Explosion/Beirut-Explosion-south.mp4')"
   ]
  },
  {
   "cell_type": "code",
   "execution_count": 25,
   "metadata": {},
   "outputs": [
    {
     "name": "stdout",
     "output_type": "stream",
     "text": [
      "2192 video frames extacted to data/Beirut-Explosion/video_frames/Beirut-Explosion-east\n",
      "FPS = 29.97002997002997\n"
     ]
    }
   ],
   "source": [
    "get_video_frames('data/Beirut-Explosion/Beirut-Explosion-east.mp4')\n",
    "# 2192 video frames extacted to data/Beirut-Explosion/video_frames/Beirut-Explosion-east\n",
    "# FPS = 29.97002997002997"
   ]
  },
  {
   "cell_type": "code",
   "execution_count": 22,
   "metadata": {},
   "outputs": [],
   "source": [
    "# get_video_frames('data/Beirut-Explosion/Beirut-Explosion-west.mp4')\n",
    "# # 1556 video frames extacted to data/Beirut-Explosion/video_frames/Beirut-Explosion-west\n",
    "# # FPS = 25.0"
   ]
  },
  {
   "cell_type": "code",
   "execution_count": 53,
   "metadata": {},
   "outputs": [
    {
     "name": "stdout",
     "output_type": "stream",
     "text": [
      "523 video frames extacted to data/Beirut-Explosion/video_frames/Beirut-Explosion-close\n",
      "FPS = 57.262773722627735\n"
     ]
    }
   ],
   "source": [
    "get_video_frames('data/Beirut-Explosion/Beirut-Explosion-close.mp4')"
   ]
  },
  {
   "cell_type": "code",
   "execution_count": 212,
   "metadata": {},
   "outputs": [
    {
     "name": "stdout",
     "output_type": "stream",
     "text": [
      "225 video frames extacted to data/Beirut-Explosion/video_frames/Beirut-Explosion-east-4k\n",
      "FPS = 30.0\n"
     ]
    }
   ],
   "source": [
    "# get_video_frames('data/Beirut-Explosion/Beirut-Explosion-east-HD.mp4')\n",
    "get_video_frames('data/Beirut-Explosion/Beirut-Explosion-east-4k.mp4')"
   ]
  },
  {
   "cell_type": "code",
   "execution_count": 33,
   "metadata": {},
   "outputs": [],
   "source": []
  },
  {
   "cell_type": "code",
   "execution_count": null,
   "metadata": {},
   "outputs": [],
   "source": []
  },
  {
   "cell_type": "code",
   "execution_count": null,
   "metadata": {},
   "outputs": [],
   "source": []
  },
  {
   "cell_type": "code",
   "execution_count": null,
   "metadata": {},
   "outputs": [],
   "source": []
  },
  {
   "cell_type": "code",
   "execution_count": 3,
   "metadata": {},
   "outputs": [],
   "source": [
    "# R and t values were added manually\n",
    "# video from south\n",
    "df1 = pd.DataFrame()\n",
    "df1['D'] = [222, 286, 326, 368, 403]\n",
    "df1['R'] = df1['D'] /2 * 58.6/75\n",
    "df1['t'] = [11.208, 11.241, 11.274, 11.308, 11.341]\n",
    "df1['t'] -= 11.174  # <- substract t=0\n",
    "df1['5/2*log10_R'] = np.log10(df1['R'] ) * 5/2\n",
    "df1['log10_t'] = np.log10(df1['t']) \n",
    "\n",
    "# video from east 4k\n",
    "df2 = pd.DataFrame()\n",
    "df2['D'] = [218, 304, 388, 456, 518, 557, 609]\n",
    "df2['R'] = df2['D'] /2 * 54.7/105\n",
    "df2['t'] = [3.400, 3.433, 3.467, 3.533, 3.600, 3.633, 3.667]\n",
    "df2['t'] -= 3.367  # <- substract t=0\n",
    "df2['t'] /= 2  # footage was slowed down x2\n",
    "df2['5/2*log10_R'] = np.log10(df2['R'] ) * 5/2\n",
    "df2['log10_t'] = np.log10(df2['t'])\n",
    "\n",
    "# video from too close\n",
    "df3 = pd.DataFrame()\n",
    "df3['D'] = [150, 197, 224, 263, 272, 294, 315, 332, 342, 350]\n",
    "df3['R'] = df3['D'] /2 * 62/ 69\n",
    "df3['t'] = [7.282, 7.300, 7.317, 7.335, 7.352, 7.370, 7.387, 7.404, 7.422, 7.439]\n",
    "df3['t'] -= 7.265  # <- substract t=0\n",
    "df3['5/2*log10_R'] = np.log10(df3['R'] ) * 5/2\n",
    "df3['log10_t'] = np.log10(df3['t']) "
   ]
  },
  {
   "cell_type": "code",
   "execution_count": 4,
   "metadata": {},
   "outputs": [
    {
     "data": {
      "text/plain": [
       "518.7754813018827"
      ]
     },
     "execution_count": 4,
     "metadata": {},
     "output_type": "execute_result"
    }
   ],
   "source": [
    "np.sqrt(438**2 + 278**2)"
   ]
  },
  {
   "cell_type": "code",
   "execution_count": 6,
   "metadata": {},
   "outputs": [
    {
     "data": {
      "image/png": "[encoded data removed]",
      "text/plain": [
       "<Figure size 504x504 with 1 Axes>"
      ]
     },
     "metadata": {},
     "output_type": "display_data"
    }
   ],
   "source": [
    "fig, ax = plt.subplots()\n",
    "fig.set_size_inches(7, 7)\n",
    "xmin, xmax = -4.1, -1\n",
    "ymin, ymax = 7.5, 11\n",
    "ax.set_title(r'Radius $R$ of blast wave at time $t$ after explosion', fontsize=18)\n",
    "# ax.scatter(dfb['log10_t'], dfb['5/2*log10_R'], s=180, marker='+', color='r', label='Tw')\n",
    "ax.scatter(df1['log10_t'], df1['5/2*log10_R'], s=180, marker='+', color='r', label='south')\n",
    "ax.scatter(df2['log10_t'], df2['5/2*log10_R'], s=180, marker='+', color='g', label='east')\n",
    "ax.scatter(df3['log10_t'], df3['5/2*log10_R'], s=180, marker='+', color='b', label='close')\n",
    "ax.set_xlabel(r'$\\log(t)$', fontsize=18)\n",
    "ax.set_ylabel(r'$\\frac{5}{2}\\log(R)$', fontsize=18)\n",
    "ax.legend()\n",
    "plt.rc('xtick',labelsize=18)\n",
    "plt.rc('ytick',labelsize=18);\n",
    "# fig.savefig('plots/BlastWaveRadius.pdf', bbox_inches='tight')"
   ]
  },
  {
   "cell_type": "code",
   "execution_count": 9,
   "metadata": {},
   "outputs": [],
   "source": [
    "df = pd.concat([df1, df2, df3], axis=0).reset_index(drop=True)"
   ]
  },
  {
   "cell_type": "code",
   "execution_count": 10,
   "metadata": {},
   "outputs": [
    {
     "data": {
      "text/html": [
       "<div>\n",
       "<style scoped>\n",
       "    .dataframe tbody tr th:only-of-type {\n",
       "        vertical-align: middle;\n",
       "    }\n",
       "\n",
       "    .dataframe tbody tr th {\n",
       "        vertical-align: top;\n",
       "    }\n",
       "\n",
       "    .dataframe thead th {\n",
       "        text-align: right;\n",
       "    }\n",
       "</style>\n",
       "<table border=\"1\" class=\"dataframe\">\n",
       "  <thead>\n",
       "    <tr style=\"text-align: right;\">\n",
       "      <th></th>\n",
       "      <th>D</th>\n",
       "      <th>R</th>\n",
       "      <th>t</th>\n",
       "      <th>5/2*log10_R</th>\n",
       "      <th>log10_t</th>\n",
       "    </tr>\n",
       "  </thead>\n",
       "  <tbody>\n",
       "    <tr>\n",
       "      <th>0</th>\n",
       "      <td>222</td>\n",
       "      <td>86.728000</td>\n",
       "      <td>0.0340</td>\n",
       "      <td>4.845398</td>\n",
       "      <td>-1.468521</td>\n",
       "    </tr>\n",
       "    <tr>\n",
       "      <th>1</th>\n",
       "      <td>286</td>\n",
       "      <td>111.730667</td>\n",
       "      <td>0.0670</td>\n",
       "      <td>5.120431</td>\n",
       "      <td>-1.173925</td>\n",
       "    </tr>\n",
       "    <tr>\n",
       "      <th>2</th>\n",
       "      <td>326</td>\n",
       "      <td>127.357333</td>\n",
       "      <td>0.1000</td>\n",
       "      <td>5.262560</td>\n",
       "      <td>-1.000000</td>\n",
       "    </tr>\n",
       "    <tr>\n",
       "      <th>3</th>\n",
       "      <td>368</td>\n",
       "      <td>143.765333</td>\n",
       "      <td>0.1340</td>\n",
       "      <td>5.394135</td>\n",
       "      <td>-0.872895</td>\n",
       "    </tr>\n",
       "    <tr>\n",
       "      <th>4</th>\n",
       "      <td>403</td>\n",
       "      <td>157.438667</td>\n",
       "      <td>0.1670</td>\n",
       "      <td>5.492779</td>\n",
       "      <td>-0.777284</td>\n",
       "    </tr>\n",
       "    <tr>\n",
       "      <th>5</th>\n",
       "      <td>218</td>\n",
       "      <td>56.783810</td>\n",
       "      <td>0.0165</td>\n",
       "      <td>4.385561</td>\n",
       "      <td>-1.782516</td>\n",
       "    </tr>\n",
       "    <tr>\n",
       "      <th>6</th>\n",
       "      <td>304</td>\n",
       "      <td>79.184762</td>\n",
       "      <td>0.0330</td>\n",
       "      <td>4.746604</td>\n",
       "      <td>-1.481486</td>\n",
       "    </tr>\n",
       "    <tr>\n",
       "      <th>7</th>\n",
       "      <td>388</td>\n",
       "      <td>101.064762</td>\n",
       "      <td>0.0500</td>\n",
       "      <td>5.011499</td>\n",
       "      <td>-1.301030</td>\n",
       "    </tr>\n",
       "    <tr>\n",
       "      <th>8</th>\n",
       "      <td>456</td>\n",
       "      <td>118.777143</td>\n",
       "      <td>0.0830</td>\n",
       "      <td>5.186832</td>\n",
       "      <td>-1.080922</td>\n",
       "    </tr>\n",
       "    <tr>\n",
       "      <th>9</th>\n",
       "      <td>518</td>\n",
       "      <td>134.926667</td>\n",
       "      <td>0.1165</td>\n",
       "      <td>5.325244</td>\n",
       "      <td>-0.933674</td>\n",
       "    </tr>\n",
       "    <tr>\n",
       "      <th>10</th>\n",
       "      <td>557</td>\n",
       "      <td>145.085238</td>\n",
       "      <td>0.1330</td>\n",
       "      <td>5.404058</td>\n",
       "      <td>-0.876148</td>\n",
       "    </tr>\n",
       "    <tr>\n",
       "      <th>11</th>\n",
       "      <td>609</td>\n",
       "      <td>158.630000</td>\n",
       "      <td>0.1500</td>\n",
       "      <td>5.500963</td>\n",
       "      <td>-0.823909</td>\n",
       "    </tr>\n",
       "    <tr>\n",
       "      <th>12</th>\n",
       "      <td>150</td>\n",
       "      <td>67.391304</td>\n",
       "      <td>0.0170</td>\n",
       "      <td>4.571510</td>\n",
       "      <td>-1.769551</td>\n",
       "    </tr>\n",
       "    <tr>\n",
       "      <th>13</th>\n",
       "      <td>197</td>\n",
       "      <td>88.507246</td>\n",
       "      <td>0.0350</td>\n",
       "      <td>4.867447</td>\n",
       "      <td>-1.455932</td>\n",
       "    </tr>\n",
       "    <tr>\n",
       "      <th>14</th>\n",
       "      <td>224</td>\n",
       "      <td>100.637681</td>\n",
       "      <td>0.0520</td>\n",
       "      <td>5.006902</td>\n",
       "      <td>-1.283997</td>\n",
       "    </tr>\n",
       "    <tr>\n",
       "      <th>15</th>\n",
       "      <td>263</td>\n",
       "      <td>118.159420</td>\n",
       "      <td>0.0700</td>\n",
       "      <td>5.181171</td>\n",
       "      <td>-1.154902</td>\n",
       "    </tr>\n",
       "    <tr>\n",
       "      <th>16</th>\n",
       "      <td>272</td>\n",
       "      <td>122.202899</td>\n",
       "      <td>0.0870</td>\n",
       "      <td>5.217704</td>\n",
       "      <td>-1.060481</td>\n",
       "    </tr>\n",
       "    <tr>\n",
       "      <th>17</th>\n",
       "      <td>294</td>\n",
       "      <td>132.086957</td>\n",
       "      <td>0.1050</td>\n",
       "      <td>5.302150</td>\n",
       "      <td>-0.978811</td>\n",
       "    </tr>\n",
       "    <tr>\n",
       "      <th>18</th>\n",
       "      <td>315</td>\n",
       "      <td>141.521739</td>\n",
       "      <td>0.1220</td>\n",
       "      <td>5.377058</td>\n",
       "      <td>-0.913640</td>\n",
       "    </tr>\n",
       "    <tr>\n",
       "      <th>19</th>\n",
       "      <td>332</td>\n",
       "      <td>149.159420</td>\n",
       "      <td>0.1390</td>\n",
       "      <td>5.434127</td>\n",
       "      <td>-0.856985</td>\n",
       "    </tr>\n",
       "    <tr>\n",
       "      <th>20</th>\n",
       "      <td>342</td>\n",
       "      <td>153.652174</td>\n",
       "      <td>0.1570</td>\n",
       "      <td>5.466347</td>\n",
       "      <td>-0.804100</td>\n",
       "    </tr>\n",
       "    <tr>\n",
       "      <th>21</th>\n",
       "      <td>350</td>\n",
       "      <td>157.246377</td>\n",
       "      <td>0.1740</td>\n",
       "      <td>5.491452</td>\n",
       "      <td>-0.759451</td>\n",
       "    </tr>\n",
       "  </tbody>\n",
       "</table>\n",
       "</div>"
      ],
      "text/plain": [
       "      D           R       t  5/2*log10_R   log10_t\n",
       "0   222   86.728000  0.0340     4.845398 -1.468521\n",
       "1   286  111.730667  0.0670     5.120431 -1.173925\n",
       "2   326  127.357333  0.1000     5.262560 -1.000000\n",
       "3   368  143.765333  0.1340     5.394135 -0.872895\n",
       "4   403  157.438667  0.1670     5.492779 -0.777284\n",
       "5   218   56.783810  0.0165     4.385561 -1.782516\n",
       "6   304   79.184762  0.0330     4.746604 -1.481486\n",
       "7   388  101.064762  0.0500     5.011499 -1.301030\n",
       "8   456  118.777143  0.0830     5.186832 -1.080922\n",
       "9   518  134.926667  0.1165     5.325244 -0.933674\n",
       "10  557  145.085238  0.1330     5.404058 -0.876148\n",
       "11  609  158.630000  0.1500     5.500963 -0.823909\n",
       "12  150   67.391304  0.0170     4.571510 -1.769551\n",
       "13  197   88.507246  0.0350     4.867447 -1.455932\n",
       "14  224  100.637681  0.0520     5.006902 -1.283997\n",
       "15  263  118.159420  0.0700     5.181171 -1.154902\n",
       "16  272  122.202899  0.0870     5.217704 -1.060481\n",
       "17  294  132.086957  0.1050     5.302150 -0.978811\n",
       "18  315  141.521739  0.1220     5.377058 -0.913640\n",
       "19  332  149.159420  0.1390     5.434127 -0.856985\n",
       "20  342  153.652174  0.1570     5.466347 -0.804100\n",
       "21  350  157.246377  0.1740     5.491452 -0.759451"
      ]
     },
     "execution_count": 10,
     "metadata": {},
     "output_type": "execute_result"
    }
   ],
   "source": [
    "df"
   ]
  },
  {
   "cell_type": "code",
   "execution_count": 12,
   "metadata": {},
   "outputs": [
    {
     "name": "stdout",
     "output_type": "stream",
     "text": [
      "(22,) (22, 1)\n",
      "R^2 = 0.98\n"
     ]
    },
    {
     "data": {
      "image/png": "[encoded data removed]",
      "text/plain": [
       "<Figure size 432x288 with 1 Axes>"
      ]
     },
     "metadata": {},
     "output_type": "display_data"
    }
   ],
   "source": [
    "X = df['log10_t'].values.reshape(1, -1).T\n",
    "y = df['5/2*log10_R'].values\n",
    "print(y.shape, X.shape)\n",
    "\n",
    "from sklearn.linear_model import LinearRegression\n",
    "from sklearn.metrics import r2_score\n",
    "model = LinearRegression()\n",
    "model.fit(X, y)\n",
    "yhat = model.predict(X)\n",
    "\n",
    "print(f'R^2 = {r2_score(yhat, y):.2f}')\n",
    "plt.scatter(yhat, y, color='r')\n",
    "line2 = np.linspace(4.3, 5.8)\n",
    "plt.xlabel('predicted')\n",
    "plt.ylabel('measured')\n",
    "plt.plot(line2, line2, 'k--', linewidth=1);"
   ]
  },
  {
   "cell_type": "code",
   "execution_count": 18,
   "metadata": {},
   "outputs": [
    {
     "data": {
      "text/plain": [
       "(6.286468556173189, 1.0040721707107543)"
      ]
     },
     "execution_count": 18,
     "metadata": {},
     "output_type": "execute_result"
    }
   ],
   "source": [
    "intercept, slope = model.intercept_, model.coef_[0]\n",
    "intercept, slope"
   ]
  },
  {
   "cell_type": "code",
   "execution_count": 17,
   "metadata": {},
   "outputs": [],
   "source": [
    "# # optimization fot fitting the constant factor only\n",
    "# from scipy.optimize import fsolve\n",
    "# def loss(i, slope=1):\n",
    "#     \"\"\"Fixed slope 1-deg polynomial residuals\"\"\"\n",
    "#     return ((y2 - (slope*X2 + i))**2).sum()\n",
    "\n",
    "# np.polyfit(df2['log10_t'].values, y2, 1)\n",
    "# intercept = fsolve(loss, x0=1)[0]\n",
    "# intercept"
   ]
  },
  {
   "cell_type": "code",
   "execution_count": 19,
   "metadata": {},
   "outputs": [
    {
     "data": {
      "text/plain": [
       "0.9846155818708071"
      ]
     },
     "execution_count": 19,
     "metadata": {},
     "output_type": "execute_result"
    }
   ],
   "source": [
    "r2_beirut = r2_score(X + intercept, y)\n",
    "r2_beirut"
   ]
  },
  {
   "cell_type": "code",
   "execution_count": 43,
   "metadata": {},
   "outputs": [
    {
     "data": {
      "image/png": "[encoded data removed]",
      "text/plain": [
       "<Figure size 504x504 with 1 Axes>"
      ]
     },
     "metadata": {},
     "output_type": "display_data"
    }
   ],
   "source": [
    "fig, ax = plt.subplots()\n",
    "fig.set_size_inches(7, 7)\n",
    "xmin, xmax = -1.6, 0\n",
    "ymin, ymax = 4.5, 6.5 #9.5, 11.5\n",
    "ax.set_title(r'Size of blast wave at time $t$ after the explosion', fontsize=18)\n",
    "# Beirut\n",
    "ax.scatter(df['log10_t'], df['5/2*log10_R'], s=100, marker='+', color='k', label='data', zorder=0)\n",
    "ax.scatter(df1['log10_t'], df1['5/2*log10_R'], s=150, marker='+', color='r', label='')\n",
    "ax.scatter(df2['log10_t'], df2['5/2*log10_R'], s=150, marker='+', color='b', label='')\n",
    "ax.scatter(df3['log10_t'], df3['5/2*log10_R'], s=150, marker='+', color='g', label='')\n",
    "# ax.scatter(df2['log10_t'], df2['5/2*log10_R'], s=150, marker='+', color='b', zorder=1)\n",
    "logt2 = np.linspace(-5, 0, 2)\n",
    "ax.plot(logt2, intercept + logt2, 'k--', linewidth=1, \n",
    "        label=f'Linear Regression ($R^2 = {r2_beirut:.2f}$)', zorder=1, alpha=0.95)\n",
    "\n",
    "ax.annotate(f'{intercept:.2f}', xy=(0, intercept), xytext=(-1, 6), arrowprops=dict(facecolor='black', arrowstyle='->'))\n",
    "\n",
    "ax.set_xlim(xmin, xmax)\n",
    "ax.set_ylim(ymin, ymax)\n",
    "ax.set_xlabel(r'$\\log(t/\\mathrm{s})$', fontsize=18)\n",
    "ax.set_ylabel(r'$\\frac{5}{2}\\log(R/\\mathrm{m})$', fontsize=18)\n",
    "plt.rc('xtick', labelsize=18)\n",
    "plt.rc('ytick', labelsize=18)\n",
    "plt.legend(fontsize=14, loc='upper left');\n",
    "fig.savefig('plots/BlastWaveSize_Beirut3.pdf', bbox_inches='tight')"
   ]
  },
  {
   "cell_type": "code",
   "execution_count": 21,
   "metadata": {},
   "outputs": [],
   "source": [
    "# joules to kt of TNT\n",
    "j2kt = 1/4.18e12"
   ]
  },
  {
   "cell_type": "code",
   "execution_count": 22,
   "metadata": {},
   "outputs": [
    {
     "name": "stdout",
     "output_type": "stream",
     "text": [
      "energy = 4.00e+12 J\n"
     ]
    }
   ],
   "source": [
    "E_J = 10**(intercept * 2/5 * 5) * 1.25 * 0.856 \n",
    "print(f'energy = {E_J:.2e} J')"
   ]
  },
  {
   "cell_type": "code",
   "execution_count": 23,
   "metadata": {},
   "outputs": [
    {
     "name": "stdout",
     "output_type": "stream",
     "text": [
      "energy = 0.958 kt\n"
     ]
    }
   ],
   "source": [
    "print(f'energy = {E_J* j2kt:.3f} kt')"
   ]
  },
  {
   "cell_type": "code",
   "execution_count": null,
   "metadata": {},
   "outputs": [],
   "source": []
  },
  {
   "cell_type": "markdown",
   "metadata": {},
   "source": [
    "ammnium nitrate explosive heat: 1447.7 J/g (Review on Thermal Decomposition of Ammonium Nitrate,  Journal of Energetic Materials, Volume 31, pp. 1-26, 2013)"
   ]
  },
  {
   "cell_type": "code",
   "execution_count": 48,
   "metadata": {},
   "outputs": [
    {
     "name": "stdout",
     "output_type": "stream",
     "text": [
      "energy = 0.952\n"
     ]
    }
   ],
   "source": [
    "print(f'energy = {1447.7/1e-3 * 2750e3 * 1/4.18e12:.3f}')"
   ]
  },
  {
   "cell_type": "code",
   "execution_count": null,
   "metadata": {},
   "outputs": [],
   "source": []
  },
  {
   "cell_type": "code",
   "execution_count": null,
   "metadata": {},
   "outputs": [],
   "source": []
  },
  {
   "cell_type": "code",
   "execution_count": null,
   "metadata": {},
   "outputs": [],
   "source": []
  }
 ],
 "metadata": {
  "kernelspec": {
   "display_name": "Python 3",
   "language": "python",
   "name": "python3"
  },
  "language_info": {
   "codemirror_mode": {
    "name": "ipython",
    "version": 3
   },
   "file_extension": ".py",
   "mimetype": "text/x-python",
   "name": "python",
   "nbconvert_exporter": "python",
   "pygments_lexer": "ipython3",
   "version": "3.6.8"
  }
 },
 "nbformat": 4,
 "nbformat_minor": 2
}
