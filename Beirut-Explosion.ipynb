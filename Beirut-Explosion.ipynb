{
 "cells": [
  {
   "cell_type": "code",
   "execution_count": 1,
   "metadata": {},
   "outputs": [],
   "source": [
    "import numpy as np\n",
    "import pandas as pd\n",
    "import matplotlib.pyplot as plt\n",
    "%matplotlib inline\n",
    "plt.rcParams['figure.facecolor'] = 'w'\n",
    "from matplotlib import rc\n",
    "rc('text',usetex=True)\n",
    "rc('font',**{'family':'serif','serif':['Computer Modern'], 'size' : 18})\n",
    "# rc('font',**{'family':'sans-serif','sans-serif':['Helvetica']})\n",
    "## for Palatino and other serif fonts use:\n",
    "# rc('font',**{'family':'serif','serif':['Palatino']})\n",
    "# rc('text', usetex=True)\n",
    "# import matplotlib.patches as patches\n",
    "# from matplotlib.colors import to_rgba"
   ]
  },
  {
   "cell_type": "code",
   "execution_count": 2,
   "metadata": {},
   "outputs": [],
   "source": [
    "from time import time\n",
    "def runtime(t0):\n",
    "    dt = time() - t0\n",
    "    if dt < 60:\n",
    "        message = f'{dt:.0f} sec.'\n",
    "    elif dt < 3600:\n",
    "        message = f'{dt/60:.0f} min.'\n",
    "    else:\n",
    "        h = int(dt//3600)\n",
    "        m = int((dt%3600) / 60)\n",
    "        message = f'{h} h. {m} min.'\n",
    "    print(message)\n",
    "    \n",
    "def dround(x, dec=2):\n",
    "    x += 1e-9\n",
    "    return float(f'{x:.{dec}f}')"
   ]
  },
  {
   "cell_type": "markdown",
   "metadata": {},
   "source": [
    "# Beirut explosion"
   ]
  },
  {
   "cell_type": "markdown",
   "metadata": {},
   "source": [
    "$ \\frac{5}{2} \\, \\log R = \\frac{5}{2} \\, \\log\\left(S \\sqrt[5]{\\frac{E}{\\rho}}\\right) + \\log t$"
   ]
  },
  {
   "cell_type": "code",
   "execution_count": null,
   "metadata": {},
   "outputs": [],
   "source": []
  },
  {
   "cell_type": "code",
   "execution_count": 12,
   "metadata": {},
   "outputs": [],
   "source": [
    "def get_video_frames(path):\n",
    "    # create a folder to store extracted images\n",
    "    folder_path = '/'.join(path.split('/')[:-1])\n",
    "    title = path.split('/')[-1].split('.')[0]\n",
    "    import os\n",
    "    folder_to = f'{folder_path}/video_frames/{title}'\n",
    "    os.mkdir(folder_to)\n",
    "    # use opencv to do the job\n",
    "    import cv2\n",
    "    vidcap = cv2.VideoCapture(path)\n",
    "    cnt = 0\n",
    "    timestamps = [vidcap.get(cv2.CAP_PROP_POS_MSEC)]\n",
    "    timestamp_file = open(f'{folder_to}/timestamps.txt', 'w')\n",
    "    while True:\n",
    "        success,image = vidcap.read()\n",
    "        ts = dround(vidcap.get(cv2.CAP_PROP_POS_MSEC) / 1000, dec=3)\n",
    "        timestamps.append(ts)\n",
    "        # save timestamps into txt file\n",
    "        timestamp_file.write(f'{cnt} \\t {ts}')\n",
    "        timestamp_file.write('\\n')\n",
    "        if not success:\n",
    "            break\n",
    "        cv2.imwrite(os.path.join(folder_to, f'frame{cnt}_{ts}.jpg'), image)  # save frame as JPEG file\n",
    "        cnt += 1\n",
    "    print(f'{cnt} video frames extacted to {folder_to}')\n",
    "    fps = vidcap.get(cv2.CAP_PROP_FPS)\n",
    "    print(f'FPS = {fps}')\n",
    "    # close video file\n",
    "    vidcap.release()\n",
    "    # closeoutput file\n",
    "    timestamp_file.close()"
   ]
  },
  {
   "cell_type": "code",
   "execution_count": 13,
   "metadata": {},
   "outputs": [
    {
     "name": "stdout",
     "output_type": "stream",
     "text": [
      "2192 video frames extacted to data/Beirut-Explosion/video_frames/Beirut-Explosion-east\n",
      "FPS = 29.97002997002997\n"
     ]
    }
   ],
   "source": [
    "get_video_frames('data/Beirut-Explosion/Beirut-Explosion-east.mp4')"
   ]
  },
  {
   "cell_type": "code",
   "execution_count": 14,
   "metadata": {},
   "outputs": [
    {
     "name": "stdout",
     "output_type": "stream",
     "text": [
      "1556 video frames extacted to data/Beirut-Explosion/video_frames/Beirut-Explosion-west\n",
      "FPS = 25.0\n"
     ]
    }
   ],
   "source": [
    "get_video_frames('data/Beirut-Explosion/Beirut-Explosion-west.mp4')"
   ]
  },
  {
   "cell_type": "code",
   "execution_count": null,
   "metadata": {},
   "outputs": [],
   "source": []
  },
  {
   "cell_type": "code",
   "execution_count": null,
   "metadata": {},
   "outputs": [],
   "source": []
  },
  {
   "cell_type": "code",
   "execution_count": 33,
   "metadata": {},
   "outputs": [],
   "source": []
  },
  {
   "cell_type": "code",
   "execution_count": null,
   "metadata": {},
   "outputs": [],
   "source": []
  },
  {
   "cell_type": "code",
   "execution_count": null,
   "metadata": {},
   "outputs": [],
   "source": []
  },
  {
   "cell_type": "code",
   "execution_count": null,
   "metadata": {},
   "outputs": [],
   "source": []
  },
  {
   "cell_type": "code",
   "execution_count": null,
   "metadata": {},
   "outputs": [],
   "source": []
  },
  {
   "cell_type": "code",
   "execution_count": 15,
   "metadata": {},
   "outputs": [],
   "source": [
    "# https://twitter.com/sinabooeshaghi/status/1290727092884299778\n",
    "dfb = pd.DataFrame()\n",
    "dfb['R'] = [185/2, 240/2, 270/2, 315/2, 350/2]\n",
    "dfb['t'] = [0.050, 0.090, 0.130, 0.180, 0.230]\n",
    "\n",
    "dfb['5/2*log10_R'] = np.log10(dfb['R'] ) * 5/2\n",
    "dfb['log10_t'] = np.log10(dfb['t']) \n",
    "dfb\n",
    "\n",
    "\n",
    "df2 = pd.DataFrame()\n",
    "df2['D'] = [222, 286, 326, 368, 403]\n",
    "df2['R'] = df2['D'] /2 * 58.6/75\n",
    "df2['t'] = [11207.629427792916, 11240.985467756585, 11274.341507720255, 11307.697547683923, 11341.053587647593]\n",
    "df2['t'] -= 11174.273387829247\n",
    "df2['t'] /= 1000\n",
    "df2['5/2*log10_R'] = np.log10(df2['R'] ) * 5/2\n",
    "df2['log10_t'] = np.log10(df2['t']) \n",
    "\n",
    "df3 = pd.DataFrame()\n",
    "df3['D'] = [142, 202, 271, 306, 326, 343]\n",
    "df3['R'] = df3['D'] /2 * 49/ 69\n",
    "df3['t'] = [34.668, 34.701, 34.735, 34.768, 34.801, 34.835]\n",
    "df3['t'] -= 34.635  # <- substract t=0\n",
    "df3['5/2*log10_R'] = np.log10(df3['R'] ) * 5/2\n",
    "df3['log10_t'] = np.log10(df3['t']) "
   ]
  },
  {
   "cell_type": "code",
   "execution_count": null,
   "metadata": {},
   "outputs": [],
   "source": []
  },
  {
   "cell_type": "code",
   "execution_count": 192,
   "metadata": {},
   "outputs": [
    {
     "data": {
      "image/png": "[encoded data removed]",
      "text/plain": [
       "<Figure size 504x504 with 1 Axes>"
      ]
     },
     "metadata": {},
     "output_type": "display_data"
    }
   ],
   "source": [
    "fig, ax = plt.subplots()\n",
    "fig.set_size_inches(7, 7)\n",
    "xmin, xmax = -4.1, -1\n",
    "ymin, ymax = 7.5, 11\n",
    "ax.set_title(r'Radius $R$ of blast wave at time $t$ after explosion', fontsize=18)\n",
    "ax.scatter(dfb['log10_t'], dfb['5/2*log10_R'], s=180, marker='+', color='r')\n",
    "ax.scatter(df2['log10_t'], df2['5/2*log10_R'], s=180, marker='+', color='b')\n",
    "# logt = np.linspace(xmin, xmax, 2)\n",
    "# ax.plot(logt, logt + 11.915, 'b--')\n",
    "# ax.set_xlim(xmin, xmax)\n",
    "# ax.set_ylim(ymin, ymax)\n",
    "ax.set_xlabel(r'$\\log(t)$', fontsize=18)\n",
    "ax.set_ylabel(r'$\\frac{5}{2}\\log(R)$', fontsize=18)\n",
    "# ax.set_xticklabels(x_ticks, rotation=0, fontsize=15)\n",
    "# ax.set_yticklabels(y_ticks, rotation=0, fontsize=15)\n",
    "plt.rc('xtick',labelsize=18)\n",
    "plt.rc('ytick',labelsize=18);\n",
    "# fig.savefig('plots/BlastWaveRadius.pdf', bbox_inches='tight')"
   ]
  },
  {
   "cell_type": "code",
   "execution_count": null,
   "metadata": {},
   "outputs": [],
   "source": []
  },
  {
   "cell_type": "code",
   "execution_count": 193,
   "metadata": {},
   "outputs": [
    {
     "name": "stdout",
     "output_type": "stream",
     "text": [
      "(5,) (5, 1)\n",
      "R^2 = 1.00\n"
     ]
    },
    {
     "data": {
      "image/png": "[encoded data removed]",
      "text/plain": [
       "<Figure size 432x288 with 1 Axes>"
      ]
     },
     "metadata": {},
     "output_type": "display_data"
    }
   ],
   "source": [
    "X2 = df2['log10_t'].values.reshape(1, -1).T\n",
    "y2 = df2['5/2*log10_R'].values\n",
    "print(y2.shape, X2.shape)\n",
    "\n",
    "from sklearn.linear_model import LinearRegression\n",
    "from sklearn.metrics import r2_score\n",
    "model2 = LinearRegression()\n",
    "model2.fit(X2, y2)\n",
    "yhat2 = model2.predict(X2)\n",
    "\n",
    "print(f'R^2 = {r2_score(yhat2, y2):.2f}')\n",
    "plt.scatter(yhat2, y2, color='r')\n",
    "line2 = np.linspace(4.5, 6)\n",
    "plt.xlabel('predicted')\n",
    "plt.ylabel('measured')\n",
    "plt.plot(line2, line2, 'k--', linewidth=1);"
   ]
  },
  {
   "cell_type": "code",
   "execution_count": 194,
   "metadata": {},
   "outputs": [
    {
     "data": {
      "text/plain": [
       "(6.196208307848296, 0.9172078465242928)"
      ]
     },
     "execution_count": 194,
     "metadata": {},
     "output_type": "execute_result"
    }
   ],
   "source": [
    "model2.intercept_, model2.coef_[0]"
   ]
  },
  {
   "cell_type": "code",
   "execution_count": 195,
   "metadata": {},
   "outputs": [
    {
     "data": {
      "image/png": "[encoded data removed]",
      "text/plain": [
       "<Figure size 504x504 with 1 Axes>"
      ]
     },
     "metadata": {},
     "output_type": "display_data"
    }
   ],
   "source": [
    "fig, ax = plt.subplots()\n",
    "fig.set_size_inches(7, 7)\n",
    "xmin, xmax = -4.5, 0\n",
    "ymin, ymax = 7.3, 12\n",
    "ax.set_title(r'Size of blast wave at time $t$ after the explosion', fontsize=18)\n",
    "ax.scatter(dfb['log10_t'], dfb['5/2*log10_R'], s=180, marker='+', color='r', label='data', zorder=10)\n",
    "logt2 = np.linspace(-1.5, 0, 2)\n",
    "# ax.plot(logt, logt + 11.915, 'b--', label='G.I. Taylor (1950)', linewidth=1, zorder=1, alpha=0.95)\n",
    "ax.plot(logt2, model2.intercept_ + model2.coef_[0] * logt2, 'g--', linewidth=1, \n",
    "        label=f'Linear Regression ($R^2 = {r2_score(yhat2, y2):.2f}$)', zorder=0, alpha=0.95)\n",
    "# ax.set_xlim(xmin, xmax)\n",
    "# ax.set_ylim(ymin, ymax)\n",
    "ax.set_xlabel(r'$\\log(t/\\mathrm{s})$', fontsize=18)\n",
    "ax.set_ylabel(r'$\\frac{5}{2}\\log(R/\\mathrm{cm})$', fontsize=18)\n",
    "# ax.set_xticklabels(x_ticks, rotation=0, fontsize=15)\n",
    "# ax.set_yticklabels(y_ticks, rotation=0, fontsize=15)\n",
    "plt.rc('xtick', labelsize=18)\n",
    "plt.rc('ytick', labelsize=18)\n",
    "plt.legend(fontsize=14);\n",
    "# fig.savefig('plots/BlastWaveSize.pdf', bbox_inches='tight')"
   ]
  },
  {
   "cell_type": "code",
   "execution_count": 196,
   "metadata": {},
   "outputs": [],
   "source": [
    "from scipy.optimize import fsolve\n",
    "def loss(i, slope=1):\n",
    "    \"\"\"Fixed slope 1-deg polynomial residuals\"\"\"\n",
    "    return ((y2 - (slope*X2 + i))**2).sum()"
   ]
  },
  {
   "cell_type": "code",
   "execution_count": 197,
   "metadata": {},
   "outputs": [
    {
     "data": {
      "text/plain": [
       "array([0.91720785, 6.19620831])"
      ]
     },
     "execution_count": 197,
     "metadata": {},
     "output_type": "execute_result"
    }
   ],
   "source": [
    "np.polyfit(df2['log10_t'].values, y2, 1)"
   ]
  },
  {
   "cell_type": "code",
   "execution_count": 198,
   "metadata": {},
   "outputs": [
    {
     "name": "stderr",
     "output_type": "stream",
     "text": [
      "c:\\users\\jsdiaz\\anaconda3\\lib\\site-packages\\scipy\\optimize\\minpack.py:162: RuntimeWarning: The iteration is not making good progress, as measured by the \n",
      "  improvement from the last ten iterations.\n",
      "  warnings.warn(msg, RuntimeWarning)\n"
     ]
    },
    {
     "data": {
      "text/plain": [
       "6.283995357924914"
      ]
     },
     "execution_count": 198,
     "metadata": {},
     "output_type": "execute_result"
    }
   ],
   "source": [
    "intercept = fsolve(loss, x0=1)[0]\n",
    "intercept"
   ]
  },
  {
   "cell_type": "code",
   "execution_count": 199,
   "metadata": {},
   "outputs": [
    {
     "data": {
      "text/plain": [
       "0.9918292475469722"
      ]
     },
     "execution_count": 199,
     "metadata": {},
     "output_type": "execute_result"
    }
   ],
   "source": [
    "r2_beirut = r2_score(X2 + intercept, y2)\n",
    "r2_beirut"
   ]
  },
  {
   "cell_type": "code",
   "execution_count": 200,
   "metadata": {},
   "outputs": [
    {
     "data": {
      "image/png": "[encoded data removed]",
      "text/plain": [
       "<Figure size 504x504 with 1 Axes>"
      ]
     },
     "metadata": {},
     "output_type": "display_data"
    }
   ],
   "source": [
    "fig, ax = plt.subplots()\n",
    "fig.set_size_inches(7, 7)\n",
    "xmin, xmax = -1.6, 0\n",
    "ymin, ymax = 4.5, 6.5 #9.5, 11.5\n",
    "ax.set_title(r'Size of blast wave at time $t$ after the explosion', fontsize=18)\n",
    "# Beirut\n",
    "# ax.scatter(dfb['log10_t'], dfb['5/2*log10_R'], s=150, marker='+', color='r', label='Beirut explosion (04 Aug 2020)', zorder=0)\n",
    "ax.scatter(df2['log10_t'], df2['5/2*log10_R'], s=150, marker='+', color='r', label='Beirut explosion (04 Aug 2020)', zorder=0)\n",
    "logt2 = np.linspace(-5, 0, 2)\n",
    "ax.plot(logt2, intercept + logt2, 'g--', linewidth=1, \n",
    "        label=f'Linear Regression ($R^2 = {r2_beirut:.3f}$)', zorder=1, alpha=0.95)\n",
    "\n",
    "ax.annotate(f'{intercept:.2f}', xy=(0, intercept), xytext=(-1, 6), arrowprops=dict(facecolor='black', arrowstyle='->'))\n",
    "\n",
    "ax.set_xlim(xmin, xmax)\n",
    "ax.set_ylim(ymin, ymax)\n",
    "ax.set_xlabel(r'$\\log(t/\\mathrm{s})$', fontsize=18)\n",
    "ax.set_ylabel(r'$\\frac{5}{2}\\log(R/\\mathrm{m})$', fontsize=18)\n",
    "plt.rc('xtick', labelsize=18)\n",
    "plt.rc('ytick', labelsize=18)\n",
    "plt.legend(fontsize=14, loc='upper left');\n",
    "# fig.savefig('plots/BlastWaveSize_Beirut.pdf', bbox_inches='tight')"
   ]
  },
  {
   "cell_type": "code",
   "execution_count": 204,
   "metadata": {},
   "outputs": [],
   "source": [
    "# joules to kt of TNT\n",
    "j2kt = 1/4.18e12"
   ]
  },
  {
   "cell_type": "code",
   "execution_count": 207,
   "metadata": {},
   "outputs": [
    {
     "name": "stdout",
     "output_type": "stream",
     "text": [
      "energy = 3.96e+12 J\n"
     ]
    }
   ],
   "source": [
    "E_J = 10**(intercept * 2/5 * 5) * 1.25 * 0.856 \n",
    "print(f'energy = {E_J:.2e} J')"
   ]
  },
  {
   "cell_type": "code",
   "execution_count": 208,
   "metadata": {},
   "outputs": [
    {
     "name": "stdout",
     "output_type": "stream",
     "text": [
      "energy = 0.947 kt\n"
     ]
    }
   ],
   "source": [
    "print(f'energy = {E_J* j2kt:.3f} kt')"
   ]
  },
  {
   "cell_type": "code",
   "execution_count": null,
   "metadata": {},
   "outputs": [],
   "source": []
  },
  {
   "cell_type": "markdown",
   "metadata": {},
   "source": [
    "ammnium nitrate explosive heat: 1447.7 J/g (Review on Thermal Decomposition of Ammonium Nitrate,  Journal of Energetic Materials, Volume 31, pp. 1-26, 2013)"
   ]
  },
  {
   "cell_type": "code",
   "execution_count": 209,
   "metadata": {},
   "outputs": [
    {
     "name": "stdout",
     "output_type": "stream",
     "text": [
      "energy = 0.952\n"
     ]
    }
   ],
   "source": [
    "print(f'energy = {1447.7/1e-3 * 2750e3 * 1/4.18e12:.3f}')"
   ]
  },
  {
   "cell_type": "code",
   "execution_count": null,
   "metadata": {},
   "outputs": [],
   "source": []
  },
  {
   "cell_type": "code",
   "execution_count": null,
   "metadata": {},
   "outputs": [],
   "source": []
  },
  {
   "cell_type": "code",
   "execution_count": null,
   "metadata": {},
   "outputs": [],
   "source": []
  }
 ],
 "metadata": {
  "kernelspec": {
   "display_name": "Python 3",
   "language": "python",
   "name": "python3"
  },
  "language_info": {
   "codemirror_mode": {
    "name": "ipython",
    "version": 3
   },
   "file_extension": ".py",
   "mimetype": "text/x-python",
   "name": "python",
   "nbconvert_exporter": "python",
   "pygments_lexer": "ipython3",
   "version": "3.6.8"
  }
 },
 "nbformat": 4,
 "nbformat_minor": 2
}
