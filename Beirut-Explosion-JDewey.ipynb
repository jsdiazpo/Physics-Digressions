{
 "cells": [
  {
   "cell_type": "code",
   "execution_count": 1,
   "metadata": {},
   "outputs": [],
   "source": [
    "import numpy as np\n",
    "import pandas as pd\n",
    "import matplotlib.pyplot as plt\n",
    "%matplotlib inline\n",
    "plt.rcParams['figure.facecolor'] = 'w'\n",
    "from matplotlib import rc\n",
    "rc('text',usetex=True)\n",
    "rc('font',**{'family':'serif','serif':['Computer Modern'], 'size' : 18})\n",
    "plt.rcParams.update({'font.size': 18})\n",
    "plt.rcParams['axes.titlesize'] = 18"
   ]
  },
  {
   "cell_type": "markdown",
   "metadata": {},
   "source": [
    "# Beirut explosion\n",
    "\n",
    "Data from [Rigby et al. *Preliminary yield estimation of the 2020 Beirut explosion using video footage from social media.* Shock Waves 30, 671–675 (2020).](https://link.springer.com/article/10.1007%2Fs00193-020-00970-z)"
   ]
  },
  {
   "cell_type": "code",
   "execution_count": 13,
   "metadata": {},
   "outputs": [],
   "source": [
    "tnt2j = 4.294  # 4.294 MJ/kg\n",
    "kg2j = tnt2j*1e6\n",
    "kt2j = kg2j*1e6\n",
    "ton2j = kg2j*1e3\n",
    "\n",
    "P0 = 0.1e6  # atmospheric pressure\n",
    "rho0 = 1.23  # air density\n",
    "a0 = np.sqrt(1.4 * P0 / rho0)  # speed of sound\n",
    "\n",
    "# Beirut explosion\n",
    "data_source = ['Diaz', 'Rigby et al.']\n",
    "df_beirut = pd.DataFrame()\n",
    "dfs = []\n",
    "for name in data_source:\n",
    "    df_tmp = pd.read_excel('data/Beirut.xlsx', sheet_name=name, usecols='A:D')\n",
    "    e0 = df_tmp['Yield (kt)'][0]*kt2j\n",
    "    df_tmp['Source']   = [name]*len(df_tmp)\n",
    "    df_tmp['Test']     = ['Beirut']*len(df_tmp)\n",
    "    df_tmp['Yield']    = [df_tmp['Yield (kt)'][0]]*len(df_tmp)\n",
    "    del df_tmp['Yield (kt)']\n",
    "#     R0 = (e0 / P0)**(1/3)\n",
    "#     df_tmp['x_scaled'] = df_tmp['t (s)'].apply(lambda x: np.log10(x*a0/R0))\n",
    "#     df_tmp['y_scaled'] = df_tmp['R (m)'].apply(lambda x: np.log10(x/R0))\n",
    "    df_beirut = pd.concat([df_beirut, df_tmp], axis=0, ignore_index=True)\n",
    "    dfs.append(df_tmp)"
   ]
  },
  {
   "cell_type": "code",
   "execution_count": 9,
   "metadata": {},
   "outputs": [
    {
     "data": {
      "text/html": [
       "<div>\n",
       "<style scoped>\n",
       "    .dataframe tbody tr th:only-of-type {\n",
       "        vertical-align: middle;\n",
       "    }\n",
       "\n",
       "    .dataframe tbody tr th {\n",
       "        vertical-align: top;\n",
       "    }\n",
       "\n",
       "    .dataframe thead th {\n",
       "        text-align: right;\n",
       "    }\n",
       "</style>\n",
       "<table border=\"1\" class=\"dataframe\">\n",
       "  <thead>\n",
       "    <tr style=\"text-align: right;\">\n",
       "      <th></th>\n",
       "      <th>R (m)</th>\n",
       "      <th>t (s)</th>\n",
       "      <th>Feature</th>\n",
       "      <th>Source</th>\n",
       "      <th>Test</th>\n",
       "      <th>Yield</th>\n",
       "    </tr>\n",
       "  </thead>\n",
       "  <tbody>\n",
       "    <tr>\n",
       "      <th>0</th>\n",
       "      <td>563</td>\n",
       "      <td>1.167</td>\n",
       "      <td>Audio</td>\n",
       "      <td>Rigby et al.</td>\n",
       "      <td>Beirut</td>\n",
       "      <td>0.5</td>\n",
       "    </tr>\n",
       "    <tr>\n",
       "      <th>1</th>\n",
       "      <td>566</td>\n",
       "      <td>1.068</td>\n",
       "      <td>Audio</td>\n",
       "      <td>Rigby et al.</td>\n",
       "      <td>Beirut</td>\n",
       "      <td>0.5</td>\n",
       "    </tr>\n",
       "    <tr>\n",
       "      <th>2</th>\n",
       "      <td>572</td>\n",
       "      <td>1.068</td>\n",
       "      <td>Audio</td>\n",
       "      <td>Rigby et al.</td>\n",
       "      <td>Beirut</td>\n",
       "      <td>0.5</td>\n",
       "    </tr>\n",
       "    <tr>\n",
       "      <th>3</th>\n",
       "      <td>630</td>\n",
       "      <td>1.277</td>\n",
       "      <td>Audio</td>\n",
       "      <td>Rigby et al.</td>\n",
       "      <td>Beirut</td>\n",
       "      <td>0.5</td>\n",
       "    </tr>\n",
       "    <tr>\n",
       "      <th>4</th>\n",
       "      <td>675</td>\n",
       "      <td>1.667</td>\n",
       "      <td>Audio</td>\n",
       "      <td>Rigby et al.</td>\n",
       "      <td>Beirut</td>\n",
       "      <td>0.5</td>\n",
       "    </tr>\n",
       "    <tr>\n",
       "      <th>5</th>\n",
       "      <td>690</td>\n",
       "      <td>1.568</td>\n",
       "      <td>Audio</td>\n",
       "      <td>Rigby et al.</td>\n",
       "      <td>Beirut</td>\n",
       "      <td>0.5</td>\n",
       "    </tr>\n",
       "    <tr>\n",
       "      <th>6</th>\n",
       "      <td>1000</td>\n",
       "      <td>2.269</td>\n",
       "      <td>Audio</td>\n",
       "      <td>Rigby et al.</td>\n",
       "      <td>Beirut</td>\n",
       "      <td>0.5</td>\n",
       "    </tr>\n",
       "    <tr>\n",
       "      <th>7</th>\n",
       "      <td>1074</td>\n",
       "      <td>2.338</td>\n",
       "      <td>Audio</td>\n",
       "      <td>Rigby et al.</td>\n",
       "      <td>Beirut</td>\n",
       "      <td>0.5</td>\n",
       "    </tr>\n",
       "    <tr>\n",
       "      <th>8</th>\n",
       "      <td>1120</td>\n",
       "      <td>2.500</td>\n",
       "      <td>Audio</td>\n",
       "      <td>Rigby et al.</td>\n",
       "      <td>Beirut</td>\n",
       "      <td>0.5</td>\n",
       "    </tr>\n",
       "    <tr>\n",
       "      <th>9</th>\n",
       "      <td>1141</td>\n",
       "      <td>2.600</td>\n",
       "      <td>Audio</td>\n",
       "      <td>Rigby et al.</td>\n",
       "      <td>Beirut</td>\n",
       "      <td>0.5</td>\n",
       "    </tr>\n",
       "    <tr>\n",
       "      <th>10</th>\n",
       "      <td>1153</td>\n",
       "      <td>2.769</td>\n",
       "      <td>Audio</td>\n",
       "      <td>Rigby et al.</td>\n",
       "      <td>Beirut</td>\n",
       "      <td>0.5</td>\n",
       "    </tr>\n",
       "    <tr>\n",
       "      <th>11</th>\n",
       "      <td>1380</td>\n",
       "      <td>3.347</td>\n",
       "      <td>Audio</td>\n",
       "      <td>Rigby et al.</td>\n",
       "      <td>Beirut</td>\n",
       "      <td>0.5</td>\n",
       "    </tr>\n",
       "    <tr>\n",
       "      <th>12</th>\n",
       "      <td>1605</td>\n",
       "      <td>4.167</td>\n",
       "      <td>Audio</td>\n",
       "      <td>Rigby et al.</td>\n",
       "      <td>Beirut</td>\n",
       "      <td>0.5</td>\n",
       "    </tr>\n",
       "    <tr>\n",
       "      <th>13</th>\n",
       "      <td>1995</td>\n",
       "      <td>5.067</td>\n",
       "      <td>Audio</td>\n",
       "      <td>Rigby et al.</td>\n",
       "      <td>Beirut</td>\n",
       "      <td>0.5</td>\n",
       "    </tr>\n",
       "    <tr>\n",
       "      <th>14</th>\n",
       "      <td>2380</td>\n",
       "      <td>6.204</td>\n",
       "      <td>Audio</td>\n",
       "      <td>Rigby et al.</td>\n",
       "      <td>Beirut</td>\n",
       "      <td>0.5</td>\n",
       "    </tr>\n",
       "    <tr>\n",
       "      <th>15</th>\n",
       "      <td>264</td>\n",
       "      <td>0.400</td>\n",
       "      <td>Visual</td>\n",
       "      <td>Rigby et al.</td>\n",
       "      <td>Beirut</td>\n",
       "      <td>0.5</td>\n",
       "    </tr>\n",
       "    <tr>\n",
       "      <th>16</th>\n",
       "      <td>270</td>\n",
       "      <td>0.434</td>\n",
       "      <td>Visual</td>\n",
       "      <td>Rigby et al.</td>\n",
       "      <td>Beirut</td>\n",
       "      <td>0.5</td>\n",
       "    </tr>\n",
       "    <tr>\n",
       "      <th>17</th>\n",
       "      <td>302</td>\n",
       "      <td>0.500</td>\n",
       "      <td>Visual</td>\n",
       "      <td>Rigby et al.</td>\n",
       "      <td>Beirut</td>\n",
       "      <td>0.5</td>\n",
       "    </tr>\n",
       "    <tr>\n",
       "      <th>18</th>\n",
       "      <td>417</td>\n",
       "      <td>0.792</td>\n",
       "      <td>Visual</td>\n",
       "      <td>Rigby et al.</td>\n",
       "      <td>Beirut</td>\n",
       "      <td>0.5</td>\n",
       "    </tr>\n",
       "    <tr>\n",
       "      <th>19</th>\n",
       "      <td>506</td>\n",
       "      <td>0.959</td>\n",
       "      <td>Visual</td>\n",
       "      <td>Rigby et al.</td>\n",
       "      <td>Beirut</td>\n",
       "      <td>0.5</td>\n",
       "    </tr>\n",
       "    <tr>\n",
       "      <th>20</th>\n",
       "      <td>547</td>\n",
       "      <td>1.101</td>\n",
       "      <td>Visual</td>\n",
       "      <td>Rigby et al.</td>\n",
       "      <td>Beirut</td>\n",
       "      <td>0.5</td>\n",
       "    </tr>\n",
       "    <tr>\n",
       "      <th>21</th>\n",
       "      <td>572</td>\n",
       "      <td>1.134</td>\n",
       "      <td>Visual</td>\n",
       "      <td>Rigby et al.</td>\n",
       "      <td>Beirut</td>\n",
       "      <td>0.5</td>\n",
       "    </tr>\n",
       "    <tr>\n",
       "      <th>22</th>\n",
       "      <td>586</td>\n",
       "      <td>1.091</td>\n",
       "      <td>Visual</td>\n",
       "      <td>Rigby et al.</td>\n",
       "      <td>Beirut</td>\n",
       "      <td>0.5</td>\n",
       "    </tr>\n",
       "    <tr>\n",
       "      <th>23</th>\n",
       "      <td>625</td>\n",
       "      <td>1.335</td>\n",
       "      <td>Visual</td>\n",
       "      <td>Rigby et al.</td>\n",
       "      <td>Beirut</td>\n",
       "      <td>0.5</td>\n",
       "    </tr>\n",
       "    <tr>\n",
       "      <th>24</th>\n",
       "      <td>630</td>\n",
       "      <td>1.335</td>\n",
       "      <td>Visual</td>\n",
       "      <td>Rigby et al.</td>\n",
       "      <td>Beirut</td>\n",
       "      <td>0.5</td>\n",
       "    </tr>\n",
       "    <tr>\n",
       "      <th>25</th>\n",
       "      <td>675</td>\n",
       "      <td>1.417</td>\n",
       "      <td>Visual</td>\n",
       "      <td>Rigby et al.</td>\n",
       "      <td>Beirut</td>\n",
       "      <td>0.5</td>\n",
       "    </tr>\n",
       "    <tr>\n",
       "      <th>26</th>\n",
       "      <td>707</td>\n",
       "      <td>1.435</td>\n",
       "      <td>Visual</td>\n",
       "      <td>Rigby et al.</td>\n",
       "      <td>Beirut</td>\n",
       "      <td>0.5</td>\n",
       "    </tr>\n",
       "    <tr>\n",
       "      <th>27</th>\n",
       "      <td>766</td>\n",
       "      <td>1.600</td>\n",
       "      <td>Visual</td>\n",
       "      <td>Rigby et al.</td>\n",
       "      <td>Beirut</td>\n",
       "      <td>0.5</td>\n",
       "    </tr>\n",
       "    <tr>\n",
       "      <th>28</th>\n",
       "      <td>817</td>\n",
       "      <td>1.802</td>\n",
       "      <td>Visual</td>\n",
       "      <td>Rigby et al.</td>\n",
       "      <td>Beirut</td>\n",
       "      <td>0.5</td>\n",
       "    </tr>\n",
       "    <tr>\n",
       "      <th>29</th>\n",
       "      <td>957</td>\n",
       "      <td>2.167</td>\n",
       "      <td>Visual</td>\n",
       "      <td>Rigby et al.</td>\n",
       "      <td>Beirut</td>\n",
       "      <td>0.5</td>\n",
       "    </tr>\n",
       "  </tbody>\n",
       "</table>\n",
       "</div>"
      ],
      "text/plain": [
       "    R (m)  t (s) Feature        Source    Test  Yield\n",
       "0     563  1.167   Audio  Rigby et al.  Beirut    0.5\n",
       "1     566  1.068   Audio  Rigby et al.  Beirut    0.5\n",
       "2     572  1.068   Audio  Rigby et al.  Beirut    0.5\n",
       "3     630  1.277   Audio  Rigby et al.  Beirut    0.5\n",
       "4     675  1.667   Audio  Rigby et al.  Beirut    0.5\n",
       "5     690  1.568   Audio  Rigby et al.  Beirut    0.5\n",
       "6    1000  2.269   Audio  Rigby et al.  Beirut    0.5\n",
       "7    1074  2.338   Audio  Rigby et al.  Beirut    0.5\n",
       "8    1120  2.500   Audio  Rigby et al.  Beirut    0.5\n",
       "9    1141  2.600   Audio  Rigby et al.  Beirut    0.5\n",
       "10   1153  2.769   Audio  Rigby et al.  Beirut    0.5\n",
       "11   1380  3.347   Audio  Rigby et al.  Beirut    0.5\n",
       "12   1605  4.167   Audio  Rigby et al.  Beirut    0.5\n",
       "13   1995  5.067   Audio  Rigby et al.  Beirut    0.5\n",
       "14   2380  6.204   Audio  Rigby et al.  Beirut    0.5\n",
       "15    264  0.400  Visual  Rigby et al.  Beirut    0.5\n",
       "16    270  0.434  Visual  Rigby et al.  Beirut    0.5\n",
       "17    302  0.500  Visual  Rigby et al.  Beirut    0.5\n",
       "18    417  0.792  Visual  Rigby et al.  Beirut    0.5\n",
       "19    506  0.959  Visual  Rigby et al.  Beirut    0.5\n",
       "20    547  1.101  Visual  Rigby et al.  Beirut    0.5\n",
       "21    572  1.134  Visual  Rigby et al.  Beirut    0.5\n",
       "22    586  1.091  Visual  Rigby et al.  Beirut    0.5\n",
       "23    625  1.335  Visual  Rigby et al.  Beirut    0.5\n",
       "24    630  1.335  Visual  Rigby et al.  Beirut    0.5\n",
       "25    675  1.417  Visual  Rigby et al.  Beirut    0.5\n",
       "26    707  1.435  Visual  Rigby et al.  Beirut    0.5\n",
       "27    766  1.600  Visual  Rigby et al.  Beirut    0.5\n",
       "28    817  1.802  Visual  Rigby et al.  Beirut    0.5\n",
       "29    957  2.167  Visual  Rigby et al.  Beirut    0.5"
      ]
     },
     "execution_count": 9,
     "metadata": {},
     "output_type": "execute_result"
    }
   ],
   "source": [
    "dfs[1]"
   ]
  },
  {
   "cell_type": "code",
   "execution_count": 16,
   "metadata": {},
   "outputs": [],
   "source": [
    "# R vs t from Dewey Eq (1)\n",
    "def R_T(t):\n",
    "    A, B, C = -13.5289, 53.1742, -58.3335\n",
    "    return A + a0*t + B * np.log(1 + a0*t) + C * np.sqrt(np.log(1 + a0*t))"
   ]
  },
  {
   "cell_type": "code",
   "execution_count": 36,
   "metadata": {},
   "outputs": [
    {
     "data": {
      "image/png": "[encoded data removed]",
      "text/plain": [
       "<Figure size 504x504 with 1 Axes>"
      ]
     },
     "metadata": {},
     "output_type": "display_data"
    }
   ],
   "source": [
    "fig, ax = plt.subplots()\n",
    "fig.set_size_inches(7, 7)\n",
    "xmin, xmax = 0, 6.7\n",
    "ymin, ymax = 0, 3000\n",
    "\n",
    "t_axis = np.linspace(0, 7, 100)\n",
    "\n",
    "ax.scatter(dfs[1]['t (s)'], dfs[1]['R (m)'], s=30, marker='o', color='r', edgecolor='k', alpha=.5, label='Rigby et al.')\n",
    "ax.plot(t_axis, R_T(t_axis), 'k--', linewidth=1, label='Dewey fit')\n",
    "ax.set(xlim=[xmin, xmax], ylim=[ymin, ymax], \n",
    "#        xscale='log', yscale='log',\n",
    "       xlabel=r'$t$', ylabel=r'$R$',\n",
    "       title=r'Radius $R$ of blast wave at time $t$ after explosion')\n",
    "ax.grid(zorder=-1, alpha=.5, linewidth=0.5)\n",
    "ax.legend(loc='upper left');"
   ]
  },
  {
   "cell_type": "code",
   "execution_count": 27,
   "metadata": {},
   "outputs": [
    {
     "data": {
      "text/plain": [
       "98.98586633335364"
      ]
     },
     "execution_count": 27,
     "metadata": {},
     "output_type": "execute_result"
    }
   ],
   "source": [
    "R_T(0.10)"
   ]
  },
  {
   "cell_type": "code",
   "execution_count": null,
   "metadata": {},
   "outputs": [],
   "source": []
  },
  {
   "cell_type": "code",
   "execution_count": null,
   "metadata": {},
   "outputs": [],
   "source": []
  },
  {
   "cell_type": "code",
   "execution_count": null,
   "metadata": {},
   "outputs": [],
   "source": []
  },
  {
   "cell_type": "code",
   "execution_count": null,
   "metadata": {},
   "outputs": [],
   "source": []
  },
  {
   "cell_type": "code",
   "execution_count": null,
   "metadata": {},
   "outputs": [],
   "source": []
  },
  {
   "cell_type": "code",
   "execution_count": null,
   "metadata": {},
   "outputs": [],
   "source": []
  },
  {
   "cell_type": "code",
   "execution_count": null,
   "metadata": {},
   "outputs": [],
   "source": []
  },
  {
   "cell_type": "code",
   "execution_count": null,
   "metadata": {},
   "outputs": [],
   "source": []
  },
  {
   "cell_type": "code",
   "execution_count": 2,
   "metadata": {},
   "outputs": [],
   "source": [
    "df = pd.read_csv('data/GITaylor_Trinity_data.csv')"
   ]
  },
  {
   "cell_type": "code",
   "execution_count": 23,
   "metadata": {},
   "outputs": [
    {
     "data": {
      "text/html": [
       "<div>\n",
       "<style scoped>\n",
       "    .dataframe tbody tr th:only-of-type {\n",
       "        vertical-align: middle;\n",
       "    }\n",
       "\n",
       "    .dataframe tbody tr th {\n",
       "        vertical-align: top;\n",
       "    }\n",
       "\n",
       "    .dataframe thead th {\n",
       "        text-align: right;\n",
       "    }\n",
       "</style>\n",
       "<table border=\"1\" class=\"dataframe\">\n",
       "  <thead>\n",
       "    <tr style=\"text-align: right;\">\n",
       "      <th></th>\n",
       "      <th>t_msec</th>\n",
       "      <th>R_m</th>\n",
       "      <th>t_sec</th>\n",
       "      <th>log10_t</th>\n",
       "      <th>log10_R</th>\n",
       "      <th>5/2*log10_R</th>\n",
       "    </tr>\n",
       "  </thead>\n",
       "  <tbody>\n",
       "    <tr>\n",
       "      <th>0</th>\n",
       "      <td>0.10</td>\n",
       "      <td>11.1</td>\n",
       "      <td>0.00010</td>\n",
       "      <td>-4.000000</td>\n",
       "      <td>2.613307</td>\n",
       "      <td>2.613307</td>\n",
       "    </tr>\n",
       "    <tr>\n",
       "      <th>1</th>\n",
       "      <td>0.24</td>\n",
       "      <td>19.9</td>\n",
       "      <td>0.00024</td>\n",
       "      <td>-3.619789</td>\n",
       "      <td>3.247133</td>\n",
       "      <td>3.247133</td>\n",
       "    </tr>\n",
       "    <tr>\n",
       "      <th>2</th>\n",
       "      <td>0.38</td>\n",
       "      <td>25.4</td>\n",
       "      <td>0.00038</td>\n",
       "      <td>-3.420216</td>\n",
       "      <td>3.512084</td>\n",
       "      <td>3.512084</td>\n",
       "    </tr>\n",
       "    <tr>\n",
       "      <th>3</th>\n",
       "      <td>0.52</td>\n",
       "      <td>28.8</td>\n",
       "      <td>0.00052</td>\n",
       "      <td>-3.283997</td>\n",
       "      <td>3.648481</td>\n",
       "      <td>3.648481</td>\n",
       "    </tr>\n",
       "    <tr>\n",
       "      <th>4</th>\n",
       "      <td>0.66</td>\n",
       "      <td>31.9</td>\n",
       "      <td>0.00066</td>\n",
       "      <td>-3.180456</td>\n",
       "      <td>3.759477</td>\n",
       "      <td>3.759477</td>\n",
       "    </tr>\n",
       "  </tbody>\n",
       "</table>\n",
       "</div>"
      ],
      "text/plain": [
       "   t_msec   R_m    t_sec   log10_t   log10_R  5/2*log10_R\n",
       "0    0.10  11.1  0.00010 -4.000000  2.613307     2.613307\n",
       "1    0.24  19.9  0.00024 -3.619789  3.247133     3.247133\n",
       "2    0.38  25.4  0.00038 -3.420216  3.512084     3.512084\n",
       "3    0.52  28.8  0.00052 -3.283997  3.648481     3.648481\n",
       "4    0.66  31.9  0.00066 -3.180456  3.759477     3.759477"
      ]
     },
     "execution_count": 23,
     "metadata": {},
     "output_type": "execute_result"
    }
   ],
   "source": [
    "df['t_sec'] = df['t_msec'] * 1e-3  # convert msec to sec\n",
    "\n",
    "df['log10_t'] = df['t_sec'].apply(lambda x: np.log10(x))\n",
    "df['5/2*log10_R'] = df['R_m'].apply(lambda x: 5/2*np.log10(x))\n",
    "df.head()"
   ]
  },
  {
   "cell_type": "code",
   "execution_count": 14,
   "metadata": {},
   "outputs": [
    {
     "data": {
      "image/png": "[encoded data removed]",
      "text/plain": [
       "<Figure size 504x504 with 1 Axes>"
      ]
     },
     "metadata": {},
     "output_type": "display_data"
    }
   ],
   "source": [
    "fig, ax = plt.subplots()\n",
    "fig.set_size_inches(7, 7)\n",
    "xmin, xmax = -4.5, 0\n",
    "ymin, ymax = 2, 7\n",
    "ax.scatter(df['log10_t'], df['5/2*log10_R'], s=180, marker='+', color='r')\n",
    "ax.set(xlim=[xmin, xmax], ylim=[ymin, ymax], \n",
    "       xlabel=r'$\\log(t)$', ylabel=r'$\\frac{5}{2}\\log(R)$',\n",
    "       title=r'Radius $R$ of blast wave at time $t$ after explosion');"
   ]
  },
  {
   "cell_type": "markdown",
   "metadata": {},
   "source": [
    "Let us fit a straight line to this data using a simple linear regression"
   ]
  },
  {
   "cell_type": "code",
   "execution_count": 15,
   "metadata": {},
   "outputs": [
    {
     "data": {
      "text/plain": [
       "((25,), (25, 1))"
      ]
     },
     "execution_count": 15,
     "metadata": {},
     "output_type": "execute_result"
    }
   ],
   "source": [
    "# set up data\n",
    "X = df['log10_t'].values.reshape(1, -1).T\n",
    "y = df['5/2*log10_R'].values\n",
    "y.shape, X.shape"
   ]
  },
  {
   "cell_type": "code",
   "execution_count": 17,
   "metadata": {},
   "outputs": [
    {
     "name": "stdout",
     "output_type": "stream",
     "text": [
      "slope    : m = 1.01\n",
      "intercept: n = 6.94\n"
     ]
    }
   ],
   "source": [
    "# fit Linear Regression: y = mx+n\n",
    "from sklearn.linear_model import LinearRegression\n",
    "model = LinearRegression()\n",
    "model.fit(X, y)\n",
    "print(f'slope    : m = {model.coef_[0]:.2f}')\n",
    "print(f'intercept: n = {model.intercept_:.2f}')"
   ]
  },
  {
   "cell_type": "code",
   "execution_count": 18,
   "metadata": {},
   "outputs": [
    {
     "name": "stderr",
     "output_type": "stream",
     "text": [
      "c:\\users\\jsdiaz\\anaconda3\\lib\\site-packages\\matplotlib\\font_manager.py:1241: UserWarning: findfont: Font family ['serif'] not found. Falling back to DejaVu Sans.\n",
      "  (prop.get_family(), self.defaultFamily[fontext]))\n"
     ]
    },
    {
     "data": {
      "image/png": "[encoded data removed]",
      "text/plain": [
       "<Figure size 504x504 with 1 Axes>"
      ]
     },
     "metadata": {},
     "output_type": "display_data"
    }
   ],
   "source": [
    "fig, ax = plt.subplots()\n",
    "fig.set_size_inches(7, 7)\n",
    "xmin, xmax = -4.5, 0\n",
    "ymin, ymax = 2, 7\n",
    "\n",
    "ax.scatter(df['log10_t'], df['5/2*log10_R'], s=180, marker='+', color='r', label='data', zorder=10)\n",
    "# plot linear fit\n",
    "logt = np.linspace(xmin, xmax, 2)\n",
    "ax.plot(logt, model.intercept_ + model.coef_[0] * logt, 'k--', linewidth=1, \n",
    "        label=f'linear regression', zorder=0, alpha=0.95)\n",
    "\n",
    "ax.set(xlim=[xmin, xmax], ylim=[ymin, ymax], \n",
    "       xlabel=r'$\\log(t)$', ylabel=r'$\\frac{5}{2}\\log(R)$',\n",
    "       title=r'Radius $R$ of blast wave at time $t$ after explosion');\n",
    "ax.legend(fontsize=15);\n",
    "# fig.savefig('plots/TrinityBlastWave-Taylor.pdf', bbox_inches='tight')"
   ]
  },
  {
   "cell_type": "markdown",
   "metadata": {},
   "source": [
    "The energy is given in terms of the intercept $n$ as\n",
    "\n",
    "$$ E_0 = \\frac{10^{2n}\\rho_0}{S(\\gamma)^5} $$\n",
    "\n",
    "where $\\rho_0$=1.23 kg/m$^3$ in the density of the undisturbed air and the constant for air ($\\gamma=1.4$) is $S(1.4)^{-5}$ = 0.856."
   ]
  },
  {
   "cell_type": "code",
   "execution_count": 22,
   "metadata": {},
   "outputs": [
    {
     "name": "stdout",
     "output_type": "stream",
     "text": [
      "E = 19.0 kt TNT  (8.05E+13 J)\n"
     ]
    }
   ],
   "source": [
    "# explosion yield in kt TNT\n",
    "# 1 TJ = 4.25 kt TNT\n",
    "E0 = 10**(2*model.intercept_) * 0.856 * 1.23\n",
    "print(f'E = {E0 / ( 4.25e12):.1f} kt TNT  ({E0:.2E} J)')"
   ]
  },
  {
   "cell_type": "code",
   "execution_count": null,
   "metadata": {},
   "outputs": [],
   "source": []
  },
  {
   "cell_type": "code",
   "execution_count": null,
   "metadata": {},
   "outputs": [],
   "source": []
  },
  {
   "cell_type": "code",
   "execution_count": null,
   "metadata": {},
   "outputs": [],
   "source": []
  },
  {
   "cell_type": "code",
   "execution_count": null,
   "metadata": {},
   "outputs": [],
   "source": []
  }
 ],
 "metadata": {
  "kernelspec": {
   "display_name": "Python 3",
   "language": "python",
   "name": "python3"
  },
  "language_info": {
   "codemirror_mode": {
    "name": "ipython",
    "version": 3
   },
   "file_extension": ".py",
   "mimetype": "text/x-python",
   "name": "python",
   "nbconvert_exporter": "python",
   "pygments_lexer": "ipython3",
   "version": "3.6.8"
  }
 },
 "nbformat": 4,
 "nbformat_minor": 2
}
