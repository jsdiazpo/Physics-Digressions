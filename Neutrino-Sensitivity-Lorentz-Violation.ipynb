{
 "cells": [
  {
   "cell_type": "code",
   "execution_count": 1,
   "metadata": {},
   "outputs": [],
   "source": [
    "import numpy as np\n",
    "import pandas as pd\n",
    "import matplotlib.pyplot as plt\n",
    "%matplotlib inline\n",
    "plt.rcParams['figure.facecolor'] = 'w'\n",
    "from matplotlib import rc\n",
    "rc('font',**{'family':'sans-serif','sans-serif':['Helvetica']})\n",
    "## for Palatino and other serif fonts use:\n",
    "#rc('font',**{'family':'serif','serif':['Palatino']})\n",
    "rc('text', usetex=True)\n",
    "import matplotlib.patches as patches"
   ]
  },
  {
   "cell_type": "code",
   "execution_count": 2,
   "metadata": {},
   "outputs": [],
   "source": [
    "df_nu = pd.read_excel('data/Neutrino-Experiments.xlsx', sheet_name='nu')"
   ]
  },
  {
   "cell_type": "code",
   "execution_count": 3,
   "metadata": {},
   "outputs": [
    {
     "data": {
      "text/html": [
       "<div>\n",
       "<style scoped>\n",
       "    .dataframe tbody tr th:only-of-type {\n",
       "        vertical-align: middle;\n",
       "    }\n",
       "\n",
       "    .dataframe tbody tr th {\n",
       "        vertical-align: top;\n",
       "    }\n",
       "\n",
       "    .dataframe thead th {\n",
       "        text-align: right;\n",
       "    }\n",
       "</style>\n",
       "<table border=\"1\" class=\"dataframe\">\n",
       "  <thead>\n",
       "    <tr style=\"text-align: right;\">\n",
       "      <th></th>\n",
       "      <th>experiment</th>\n",
       "      <th>baseline</th>\n",
       "      <th>Emin</th>\n",
       "      <th>Emax</th>\n",
       "    </tr>\n",
       "  </thead>\n",
       "  <tbody>\n",
       "    <tr>\n",
       "      <th>0</th>\n",
       "      <td>K2K</td>\n",
       "      <td>1.267500e+21</td>\n",
       "      <td>0.3000</td>\n",
       "      <td>2.50</td>\n",
       "    </tr>\n",
       "    <tr>\n",
       "      <th>1</th>\n",
       "      <td>OPERA</td>\n",
       "      <td>3.710000e+21</td>\n",
       "      <td>5.0000</td>\n",
       "      <td>30.00</td>\n",
       "    </tr>\n",
       "    <tr>\n",
       "      <th>2</th>\n",
       "      <td>OPERA2</td>\n",
       "      <td>6.540000e+21</td>\n",
       "      <td>0.5000</td>\n",
       "      <td>7.00</td>\n",
       "    </tr>\n",
       "    <tr>\n",
       "      <th>3</th>\n",
       "      <td>V solar</td>\n",
       "      <td>7.610000e+26</td>\n",
       "      <td>0.0002</td>\n",
       "      <td>0.02</td>\n",
       "    </tr>\n",
       "    <tr>\n",
       "      <th>4</th>\n",
       "      <td>NuTeV</td>\n",
       "      <td>5.830500e+18</td>\n",
       "      <td>30.0000</td>\n",
       "      <td>600.00</td>\n",
       "    </tr>\n",
       "    <tr>\n",
       "      <th>5</th>\n",
       "      <td>MINERvA</td>\n",
       "      <td>1.610000e+18</td>\n",
       "      <td>1.0000</td>\n",
       "      <td>20.00</td>\n",
       "    </tr>\n",
       "    <tr>\n",
       "      <th>6</th>\n",
       "      <td>NOMAD</td>\n",
       "      <td>3.168750e+18</td>\n",
       "      <td>10.0000</td>\n",
       "      <td>150.00</td>\n",
       "    </tr>\n",
       "    <tr>\n",
       "      <th>7</th>\n",
       "      <td>CDHS</td>\n",
       "      <td>6.591000e+17</td>\n",
       "      <td>1.0000</td>\n",
       "      <td>4.00</td>\n",
       "    </tr>\n",
       "    <tr>\n",
       "      <th>8</th>\n",
       "      <td>BNL E776</td>\n",
       "      <td>5.070000e+18</td>\n",
       "      <td>1.0000</td>\n",
       "      <td>5.00</td>\n",
       "    </tr>\n",
       "    <tr>\n",
       "      <th>9</th>\n",
       "      <td>CHORUS</td>\n",
       "      <td>3.042000e+18</td>\n",
       "      <td>10.0000</td>\n",
       "      <td>100.00</td>\n",
       "    </tr>\n",
       "  </tbody>\n",
       "</table>\n",
       "</div>"
      ],
      "text/plain": [
       "  experiment      baseline     Emin    Emax\n",
       "0        K2K  1.267500e+21   0.3000    2.50\n",
       "1      OPERA  3.710000e+21   5.0000   30.00\n",
       "2     OPERA2  6.540000e+21   0.5000    7.00\n",
       "3    V solar  7.610000e+26   0.0002    0.02\n",
       "4      NuTeV  5.830500e+18  30.0000  600.00\n",
       "5    MINERvA  1.610000e+18   1.0000   20.00\n",
       "6      NOMAD  3.168750e+18  10.0000  150.00\n",
       "7       CDHS  6.591000e+17   1.0000    4.00\n",
       "8   BNL E776  5.070000e+18   1.0000    5.00\n",
       "9     CHORUS  3.042000e+18  10.0000  100.00"
      ]
     },
     "execution_count": 3,
     "metadata": {},
     "output_type": "execute_result"
    }
   ],
   "source": [
    "df_nu"
   ]
  },
  {
   "cell_type": "code",
   "execution_count": 20,
   "metadata": {},
   "outputs": [],
   "source": [
    "km2gev = 5.07e18"
   ]
  },
  {
   "cell_type": "code",
   "execution_count": 70,
   "metadata": {},
   "outputs": [],
   "source": [
    "from matplotlib.colors import to_rgba"
   ]
  },
  {
   "cell_type": "code",
   "execution_count": 51,
   "metadata": {},
   "outputs": [
    {
     "data": {
      "text/plain": [
       "array([ 0.01      ,  0.02154435,  0.04641589,  0.1       ,  0.21544347,\n",
       "        0.46415888,  1.        ,  2.15443469,  4.64158883, 10.        ])"
      ]
     },
     "execution_count": 51,
     "metadata": {},
     "output_type": "execute_result"
    }
   ],
   "source": [
    "# np.logspace(0.1, 10, 20)\n",
    "np.logspace(-2, 1, 10)"
   ]
  },
  {
   "cell_type": "code",
   "execution_count": 101,
   "metadata": {},
   "outputs": [
    {
     "data": {
      "image/png": "[encoded data removed]",
      "text/plain": [
       "<Figure size 504x504 with 1 Axes>"
      ]
     },
     "metadata": {},
     "output_type": "display_data"
    }
   ],
   "source": [
    "fig, ax = plt.subplots()\n",
    "fig.set_size_inches(7, 7)\n",
    "Emin, Emax = 1e-4, 1e3\n",
    "E = np.logspace(np.log(Emin), np.log(Emax), 20)\n",
    "# ax.xaxis.set_tick_params(labelsize=15)\n",
    "ax.tick_params(axis=\"x\", direction='in', which='both', labelsize=15)\n",
    "ax.tick_params(axis=\"y\", direction='in', which='both', labelsize=15)\n",
    "# ax.yaxis.set_tick_params(labelsize=15)\n",
    "ax.set_xscale('log')\n",
    "ax.set_yscale('log')\n",
    "ax.set_xlim(Emin, Emax)\n",
    "ax.set_xlabel('$E \\,\\mathrm{(GeV)}$', fontsize=15)\n",
    "ax.set_ylim(1, 1e10)\n",
    "ax.set_ylabel('$L \\,\\mathrm{(m)}$', fontsize=15)\n",
    "\n",
    "# ax.set_ylim(1e16, 1e28)\n",
    "# ax.set_ylabel('$L \\,\\mathrm{(GeV}^{-1}$)', fontsize=15)\n",
    "\n",
    "# SB reactor\n",
    "rect = patches.Rectangle((2e-3, 15), 7e-3, 1380-15, linewidth=1, edgecolor=to_rgba('red', 1), facecolor=to_rgba('red', 0.5))\n",
    "ax.add_patch(rect)\n",
    "ax.text(2e-3, 100, '$\\mbox{SB reactor}$', color='r', fontsize=15)\n",
    "# KamLAND\n",
    "rect = patches.Rectangle((2e-3, 170e3), 7e-3, 170, linewidth=1, edgecolor=to_rgba('red', 1), facecolor=to_rgba('red', 0.5))\n",
    "ax.add_patch(rect)\n",
    "\n",
    "# SB accelerator\n",
    "\n",
    "# LB accelerator\n",
    "rect = patches.Rectangle((0.2, 250e3), 10, 1380e3, linewidth=1, edgecolor=to_rgba('blue', 1), facecolor=to_rgba('blue', 0.2))\n",
    "ax.add_patch(rect)\n",
    "ax.text(0.23, 5e5, '$\\mathrm{LB\\,accelerator}$', color='b', fontsize=15)\n",
    "\n",
    "# atmospheric\n",
    "rect = patches.Rectangle((0.2, 18e3), 20, 15e6, linewidth=1, edgecolor=to_rgba('g', 1), facecolor=to_rgba('g', 0.2))\n",
    "ax.add_patch(rect)\n",
    "ax.text(0.5, 3e4, '$\\mathrm{atmospheric}$', color='g', fontsize=15)\n",
    "\n",
    "# ax.plot([df_nu['Emin'][idx], df_nu['Emax'][idx]], [df_nu['baseline'][idx], df_nu['baseline'][idx]], 'k-', linewidth=1);\n",
    "\n",
    "# for idx in range(len(df_nu)):\n",
    "#     ax.plot([df_nu['Emin'][idx], df_nu['Emax'][idx]], [df_nu['baseline'][idx], df_nu['baseline'][idx]], 'k-', linewidth=1);\n",
    "\n",
    "ax.plot(E, np.pi*1e3*E/(1.27*7.59e-5), 'k--', linewidth=1)\n",
    "ax.plot(E, np.pi*1e3*E/(1.27*2.32e-3), 'k--', linewidth=1);\n",
    "# fig.savefig('plots/LE_plot.pdf', bbox_inches='tight')"
   ]
  },
  {
   "cell_type": "code",
   "execution_count": 73,
   "metadata": {},
   "outputs": [],
   "source": [
    "to_m = 1/5.07e15"
   ]
  },
  {
   "cell_type": "code",
   "execution_count": 86,
   "metadata": {},
   "outputs": [
    {
     "data": {
      "text/plain": [
       "19723.865877712033"
      ]
     },
     "execution_count": 86,
     "metadata": {},
     "output_type": "execute_result"
    }
   ],
   "source": [
    "to_m * 1e20"
   ]
  },
  {
   "cell_type": "code",
   "execution_count": 87,
   "metadata": {},
   "outputs": [
    {
     "data": {
      "text/plain": [
       "15779092.702169625"
      ]
     },
     "execution_count": 87,
     "metadata": {},
     "output_type": "execute_result"
    }
   ],
   "source": [
    "to_m * 8e22"
   ]
  },
  {
   "cell_type": "code",
   "execution_count": 17,
   "metadata": {},
   "outputs": [],
   "source": []
  },
  {
   "cell_type": "code",
   "execution_count": null,
   "metadata": {},
   "outputs": [],
   "source": []
  },
  {
   "cell_type": "code",
   "execution_count": null,
   "metadata": {},
   "outputs": [],
   "source": []
  },
  {
   "cell_type": "code",
   "execution_count": null,
   "metadata": {},
   "outputs": [],
   "source": []
  }
 ],
 "metadata": {
  "kernelspec": {
   "display_name": "Python 3",
   "language": "python",
   "name": "python3"
  },
  "language_info": {
   "codemirror_mode": {
    "name": "ipython",
    "version": 3
   },
   "file_extension": ".py",
   "mimetype": "text/x-python",
   "name": "python",
   "nbconvert_exporter": "python",
   "pygments_lexer": "ipython3",
   "version": "3.6.8"
  }
 },
 "nbformat": 4,
 "nbformat_minor": 2
}
